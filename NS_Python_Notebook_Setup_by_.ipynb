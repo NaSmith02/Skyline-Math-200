{
  "nbformat": 4,
  "nbformat_minor": 0,
  "metadata": {
    "colab": {
      "provenance": [],
      "include_colab_link": true
    },
    "kernelspec": {
      "name": "python3",
      "display_name": "Python 3"
    },
    "language_info": {
      "name": "python"
    }
  },
  "cells": [
    {
      "cell_type": "markdown",
      "metadata": {
        "id": "view-in-github",
        "colab_type": "text"
      },
      "source": [
        "<a href=\"https://colab.research.google.com/github/NaSmith02/Skyline-Math-200/blob/main/NS_Python_Notebook_Setup_by_.ipynb\" target=\"_parent\"><img src=\"https://colab.research.google.com/assets/colab-badge.svg\" alt=\"Open In Colab\"/></a>"
      ]
    },
    {
      "cell_type": "markdown",
      "source": [
        "\n",
        "\n",
        "```\n",
        "`# This is formatted as code`\n",
        "```\n",
        "\n",
        "Research Question #1 Is there an association between between the time you wake up on the days you have school or work and feeling that difficulties could not be done? : Include question here"
      ],
      "metadata": {
        "id": "RaflRRFg5e8L"
      }
    },
    {
      "cell_type": "code",
      "execution_count": 1,
      "metadata": {
        "id": "U2T9urK-5ZAe"
      },
      "outputs": [],
      "source": [
        "import pandas as pd\n",
        "import matplotlib.pyplot as plt\n",
        "import seaborn as sns"
      ]
    },
    {
      "cell_type": "code",
      "source": [
        "url='https://drive.google.com/file/d/1IbHzUMYKFBkmW3TIvryP7XJlW-WkmGEw/view?usp=sharing'\n",
        "path= 'https://drive.google.com/uc?export=download&id='+url.split('/')[-2]\n",
        "df = pd.read_csv(path)\n",
        "df.head()"
      ],
      "metadata": {
        "id": "Hq7jBgXZ5p7g",
        "colab": {
          "base_uri": "https://localhost:8080/",
          "height": 236
        },
        "outputId": "03c7dcc9-59a2-40d0-cb2e-a28a436f41b7"
      },
      "execution_count": 2,
      "outputs": [
        {
          "output_type": "execute_result",
          "data": {
            "text/plain": [
              "       AID  BIO_SEX        agew1 IMONTH4 IDAY4 IYEAR4   MACNO4 INTID4  \\\n",
              "0  5710027        2                                                     \n",
              "1  5710131        2  19.42739726       5     6   2008  2288160    160   \n",
              "2  5710317        1                                                     \n",
              "3  5710386        1  20.43013699       5    22   2008  2288238    238   \n",
              "4  5710455        2                                                     \n",
              "\n",
              "  BIO_SEX4 VERSION4  ... H4EO5C H4EO5D H4EO5E H4EO5F H4EO5G H4EO5H H4EO5I  \\\n",
              "0                    ...                                                    \n",
              "1        2     V5.4  ...      0      0      0      0      0      0      0   \n",
              "2                    ...                                                    \n",
              "3        1     V5.4  ...      0      0      0      0      0      0      0   \n",
              "4                    ...                                                    \n",
              "\n",
              "  H4EO5J H4EO6 H4EO7  \n",
              "0                     \n",
              "1      0     2     1  \n",
              "2                     \n",
              "3      0     4     1  \n",
              "4                     \n",
              "\n",
              "[5 rows x 976 columns]"
            ],
            "text/html": [
              "\n",
              "  <div id=\"df-620771bf-609a-4fba-94bc-185388b3b895\">\n",
              "    <div class=\"colab-df-container\">\n",
              "      <div>\n",
              "<style scoped>\n",
              "    .dataframe tbody tr th:only-of-type {\n",
              "        vertical-align: middle;\n",
              "    }\n",
              "\n",
              "    .dataframe tbody tr th {\n",
              "        vertical-align: top;\n",
              "    }\n",
              "\n",
              "    .dataframe thead th {\n",
              "        text-align: right;\n",
              "    }\n",
              "</style>\n",
              "<table border=\"1\" class=\"dataframe\">\n",
              "  <thead>\n",
              "    <tr style=\"text-align: right;\">\n",
              "      <th></th>\n",
              "      <th>AID</th>\n",
              "      <th>BIO_SEX</th>\n",
              "      <th>agew1</th>\n",
              "      <th>IMONTH4</th>\n",
              "      <th>IDAY4</th>\n",
              "      <th>IYEAR4</th>\n",
              "      <th>MACNO4</th>\n",
              "      <th>INTID4</th>\n",
              "      <th>BIO_SEX4</th>\n",
              "      <th>VERSION4</th>\n",
              "      <th>...</th>\n",
              "      <th>H4EO5C</th>\n",
              "      <th>H4EO5D</th>\n",
              "      <th>H4EO5E</th>\n",
              "      <th>H4EO5F</th>\n",
              "      <th>H4EO5G</th>\n",
              "      <th>H4EO5H</th>\n",
              "      <th>H4EO5I</th>\n",
              "      <th>H4EO5J</th>\n",
              "      <th>H4EO6</th>\n",
              "      <th>H4EO7</th>\n",
              "    </tr>\n",
              "  </thead>\n",
              "  <tbody>\n",
              "    <tr>\n",
              "      <th>0</th>\n",
              "      <td>5710027</td>\n",
              "      <td>2</td>\n",
              "      <td></td>\n",
              "      <td></td>\n",
              "      <td></td>\n",
              "      <td></td>\n",
              "      <td></td>\n",
              "      <td></td>\n",
              "      <td></td>\n",
              "      <td></td>\n",
              "      <td>...</td>\n",
              "      <td></td>\n",
              "      <td></td>\n",
              "      <td></td>\n",
              "      <td></td>\n",
              "      <td></td>\n",
              "      <td></td>\n",
              "      <td></td>\n",
              "      <td></td>\n",
              "      <td></td>\n",
              "      <td></td>\n",
              "    </tr>\n",
              "    <tr>\n",
              "      <th>1</th>\n",
              "      <td>5710131</td>\n",
              "      <td>2</td>\n",
              "      <td>19.42739726</td>\n",
              "      <td>5</td>\n",
              "      <td>6</td>\n",
              "      <td>2008</td>\n",
              "      <td>2288160</td>\n",
              "      <td>160</td>\n",
              "      <td>2</td>\n",
              "      <td>V5.4</td>\n",
              "      <td>...</td>\n",
              "      <td>0</td>\n",
              "      <td>0</td>\n",
              "      <td>0</td>\n",
              "      <td>0</td>\n",
              "      <td>0</td>\n",
              "      <td>0</td>\n",
              "      <td>0</td>\n",
              "      <td>0</td>\n",
              "      <td>2</td>\n",
              "      <td>1</td>\n",
              "    </tr>\n",
              "    <tr>\n",
              "      <th>2</th>\n",
              "      <td>5710317</td>\n",
              "      <td>1</td>\n",
              "      <td></td>\n",
              "      <td></td>\n",
              "      <td></td>\n",
              "      <td></td>\n",
              "      <td></td>\n",
              "      <td></td>\n",
              "      <td></td>\n",
              "      <td></td>\n",
              "      <td>...</td>\n",
              "      <td></td>\n",
              "      <td></td>\n",
              "      <td></td>\n",
              "      <td></td>\n",
              "      <td></td>\n",
              "      <td></td>\n",
              "      <td></td>\n",
              "      <td></td>\n",
              "      <td></td>\n",
              "      <td></td>\n",
              "    </tr>\n",
              "    <tr>\n",
              "      <th>3</th>\n",
              "      <td>5710386</td>\n",
              "      <td>1</td>\n",
              "      <td>20.43013699</td>\n",
              "      <td>5</td>\n",
              "      <td>22</td>\n",
              "      <td>2008</td>\n",
              "      <td>2288238</td>\n",
              "      <td>238</td>\n",
              "      <td>1</td>\n",
              "      <td>V5.4</td>\n",
              "      <td>...</td>\n",
              "      <td>0</td>\n",
              "      <td>0</td>\n",
              "      <td>0</td>\n",
              "      <td>0</td>\n",
              "      <td>0</td>\n",
              "      <td>0</td>\n",
              "      <td>0</td>\n",
              "      <td>0</td>\n",
              "      <td>4</td>\n",
              "      <td>1</td>\n",
              "    </tr>\n",
              "    <tr>\n",
              "      <th>4</th>\n",
              "      <td>5710455</td>\n",
              "      <td>2</td>\n",
              "      <td></td>\n",
              "      <td></td>\n",
              "      <td></td>\n",
              "      <td></td>\n",
              "      <td></td>\n",
              "      <td></td>\n",
              "      <td></td>\n",
              "      <td></td>\n",
              "      <td>...</td>\n",
              "      <td></td>\n",
              "      <td></td>\n",
              "      <td></td>\n",
              "      <td></td>\n",
              "      <td></td>\n",
              "      <td></td>\n",
              "      <td></td>\n",
              "      <td></td>\n",
              "      <td></td>\n",
              "      <td></td>\n",
              "    </tr>\n",
              "  </tbody>\n",
              "</table>\n",
              "<p>5 rows × 976 columns</p>\n",
              "</div>\n",
              "      <button class=\"colab-df-convert\" onclick=\"convertToInteractive('df-620771bf-609a-4fba-94bc-185388b3b895')\"\n",
              "              title=\"Convert this dataframe to an interactive table.\"\n",
              "              style=\"display:none;\">\n",
              "        \n",
              "  <svg xmlns=\"http://www.w3.org/2000/svg\" height=\"24px\"viewBox=\"0 0 24 24\"\n",
              "       width=\"24px\">\n",
              "    <path d=\"M0 0h24v24H0V0z\" fill=\"none\"/>\n",
              "    <path d=\"M18.56 5.44l.94 2.06.94-2.06 2.06-.94-2.06-.94-.94-2.06-.94 2.06-2.06.94zm-11 1L8.5 8.5l.94-2.06 2.06-.94-2.06-.94L8.5 2.5l-.94 2.06-2.06.94zm10 10l.94 2.06.94-2.06 2.06-.94-2.06-.94-.94-2.06-.94 2.06-2.06.94z\"/><path d=\"M17.41 7.96l-1.37-1.37c-.4-.4-.92-.59-1.43-.59-.52 0-1.04.2-1.43.59L10.3 9.45l-7.72 7.72c-.78.78-.78 2.05 0 2.83L4 21.41c.39.39.9.59 1.41.59.51 0 1.02-.2 1.41-.59l7.78-7.78 2.81-2.81c.8-.78.8-2.07 0-2.86zM5.41 20L4 18.59l7.72-7.72 1.47 1.35L5.41 20z\"/>\n",
              "  </svg>\n",
              "      </button>\n",
              "      \n",
              "  <style>\n",
              "    .colab-df-container {\n",
              "      display:flex;\n",
              "      flex-wrap:wrap;\n",
              "      gap: 12px;\n",
              "    }\n",
              "\n",
              "    .colab-df-convert {\n",
              "      background-color: #E8F0FE;\n",
              "      border: none;\n",
              "      border-radius: 50%;\n",
              "      cursor: pointer;\n",
              "      display: none;\n",
              "      fill: #1967D2;\n",
              "      height: 32px;\n",
              "      padding: 0 0 0 0;\n",
              "      width: 32px;\n",
              "    }\n",
              "\n",
              "    .colab-df-convert:hover {\n",
              "      background-color: #E2EBFA;\n",
              "      box-shadow: 0px 1px 2px rgba(60, 64, 67, 0.3), 0px 1px 3px 1px rgba(60, 64, 67, 0.15);\n",
              "      fill: #174EA6;\n",
              "    }\n",
              "\n",
              "    [theme=dark] .colab-df-convert {\n",
              "      background-color: #3B4455;\n",
              "      fill: #D2E3FC;\n",
              "    }\n",
              "\n",
              "    [theme=dark] .colab-df-convert:hover {\n",
              "      background-color: #434B5C;\n",
              "      box-shadow: 0px 1px 3px 1px rgba(0, 0, 0, 0.15);\n",
              "      filter: drop-shadow(0px 1px 2px rgba(0, 0, 0, 0.3));\n",
              "      fill: #FFFFFF;\n",
              "    }\n",
              "  </style>\n",
              "\n",
              "      <script>\n",
              "        const buttonEl =\n",
              "          document.querySelector('#df-620771bf-609a-4fba-94bc-185388b3b895 button.colab-df-convert');\n",
              "        buttonEl.style.display =\n",
              "          google.colab.kernel.accessAllowed ? 'block' : 'none';\n",
              "\n",
              "        async function convertToInteractive(key) {\n",
              "          const element = document.querySelector('#df-620771bf-609a-4fba-94bc-185388b3b895');\n",
              "          const dataTable =\n",
              "            await google.colab.kernel.invokeFunction('convertToInteractive',\n",
              "                                                     [key], {});\n",
              "          if (!dataTable) return;\n",
              "\n",
              "          const docLinkHtml = 'Like what you see? Visit the ' +\n",
              "            '<a target=\"_blank\" href=https://colab.research.google.com/notebooks/data_table.ipynb>data table notebook</a>'\n",
              "            + ' to learn more about interactive tables.';\n",
              "          element.innerHTML = '';\n",
              "          dataTable['output_type'] = 'display_data';\n",
              "          await google.colab.output.renderOutput(dataTable, element);\n",
              "          const docLink = document.createElement('div');\n",
              "          docLink.innerHTML = docLinkHtml;\n",
              "          element.appendChild(docLink);\n",
              "        }\n",
              "      </script>\n",
              "    </div>\n",
              "  </div>\n",
              "  "
            ]
          },
          "metadata": {},
          "execution_count": 2
        }
      ]
    },
    {
      "cell_type": "markdown",
      "source": [
        "Codebook 1"
      ],
      "metadata": {
        "id": "P2Vacu7L52PB"
      }
    },
    {
      "cell_type": "markdown",
      "source": [
        "![Screenshot 2023-04-28 10.50.34 AM.png](data:image/png;base64,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)"
      ],
      "metadata": {
        "id": "VPBYNzCD_JqS"
      }
    },
    {
      "cell_type": "markdown",
      "source": [
        "![Screenshot 2023-04-30 8.40.18 PM.png](data:image/png;base64,iVBORw0KGgoAAAANSUhEUgAAAOoAAACtCAYAAAC+yeOaAAAAAXNSR0IArs4c6QAAIABJREFUeJzsvdlzHOd5//vpnp59XzAAZgAMARAkARLiIi4SKVGkJMeyXY7jOKnKhX2RSlWqUpXKzfHVuUjV+V2m8gfklzgXp8oniiu2Jf9sS7Y2kyIp7hsIEACxL4NlBoPZ9+nucwFNmyABEiQHtGn1p0olYrrnffvt6aff7Xm+jxD6v5ZUNiD6r82s7itudEjnjwjfoJXwD5c3Pa7/ji8Gj/sdpUd9uf+dTMMvSKexRLE+9hz9d/zj53G/4yMNNfqvzQ29GABFqSHXykxOjLG790DDylVVhVq1zMz0ODt39Tes3DqVco5UKo3N5sDhdDe8/O1kO35HnefLIw1VVRUEBFTUtf+rKoJQ/z+osP74l/9HEJ7T5T+a9dfb2GtS1d/PGB5Xdv3cjc571LEHz1NVFVEUt/ydx5X3pN/fSr3bea/r5W50HVut9/7f7X42+2226/l5Uh5pqNf+v/+HgwcPMj09jdfr5ebNm/T19TEwMMC+/n2k0xnawm3cvTtEd/dOZmam2XPsazh7Xnte178ptVqNn/3sZ7z55puk02lsNhuhUKhh5Y+Pj3P16lWOHj3Kzp07AZicnMRgMBCJRLTzFEVhYmKCUqnErl27MJvN68qZmJhgdXWVo0ePPlTHysoKoiji8Xi4du0aX3zxBX/913/NyMgIU1NT/OAHP3iovK0yMDBAa2srwWBwS+erqsrZs2dpaWnB6XQSDoc3PO/evXs4nc6G3uvPP/8co9HI8ePHAbh8+TJer5dIJILJZCIej3P37l1OnTq1zqAKhQKlUgmfzwdAPB5nbGyMTGZtKpBKpejq6sJut7N37951dc7PzzM/P097ezsTExOcPHmyYe15GqTNhkXT0QSJ6TtkglamBq5j7etjYeQaXqnI0r07dAetpGIxAqYKsYlbOMmhFvIUVxdwPudGbISiKIyMjCBJEu3t7cTjccxmM6VSiUQiwdzcHC6XC7/fz549exBFcctly7LMtWvXCIVC1Go17Y2bTqcpFArMzs5isVjYv38/yWSSX/ziFwSDQaanpzlx4gRTU1MoisLhw4dJJpMsLS1x6dIlFhYW2L9/PwMDA1itVhYWFmhububrX/865XKZarXK7373O1ZXV5mZmWFychJH865HDm3Hl4oUYmNMTk7y6quv0ty8du7S0hIDAwMcPnwYo9HIxMQEe/fuRVEUMpkMLS0tGI1GzGYz58+f114WkUiEbDbLSy+9RDabpbe3l7t37xKJROju7iYWi3H16lUOHjyIxWJhfHycvr4+zYBqtRr37t3jwIEDNDU1MTY2hs/nI5fLce/ePUKhEHa7nUgkwvz8PKFQiM8//5yXXnqJ8+fP4/f7mZ2d5fLly7zzzjs0NzfzySefsLi4SD6fZ//+/SwuLpLNZrHZbGSzWd566y0SiQSffvqp1qNOTEyQTCZpa2tDURTOnz+Py+XC4XDgcDiYm5vj9u3bTE9P4/F4iEajjI6O0tvby+DgIM3Nzezdu5fZ2VnMZjO1Wo1isUitViOVShGJRLh79y7t7e1Eo1FeeeUVHA7Hpr/TfFJ+5O8o/fbn4xz55zD972SI/mszs6O3ufr//t+0NnmolgokYkvks2mUWgWlVia+tECtWkSplkkmYkyLKsVchpXlBQRBIJ9Lb/mB307qxjM3N4fRaKRareLxeEgkEkxMTGg9XU9PD11dXVgsli2XXalUGBgYoKmpiXw+r31eq9WIx+MsLCwQCoXo7OxElmWi0ShmsxlZlhkYGGBubo5isUhvby/VapVSqcT09DQ3b96kXC5z9uxZ9uzZw9zcnNYOv99PNptFlmXtgZibm+NQUxP/+3//jKmpKWq1Gvv27ePcuXN861vfolgsar3H/Pw8fX19mqEWCgWKxSJ3797FZrNRLBa5ceMGVquVsbExDh06pL3g4vE42WyWZDJJd3c3k5OTmM1mkskktVqNaDRKJpOhu7ubUqlEoVBgYGCAnTt3Mj4+jslkolqtYrVamZ+fJ5vNai/J6elpVldXWVhYoFarUalUkGWZtrY2JiYmCIVCpNNpVFVldHQUo9FIrVZjeXmZcrmMLMssLy+TyWSo1WoMDw8jyzJDQ0N0dHRoL4jx8XFWV1cxGo0oioLBYMBoNOJwOBgbG8NgMFAqlZifn6e1tZWlpSWy2SzVahWDwcClS5eIx+PIssz169c5evQosiyzuLhILpejUCigqirpdFr7jSYnJymVSszNzeH1enn55Zc3fabavIZ1f4d/uMyd37i4+r+ieJU8G3Qja5VFF6Koqsry8jKCIFCr1bBYLORyOYxGIyoquVyO6HwUWZYplUqsrq6STKa2/MBvN36/n3A4zNjYGKlUilQqxfLyMouLi/T19VEsFqlWq1QqlScqt1qtsrq6yuTkJEtLSyiKoh3L5XIIgoDT6SSVSuF2u2lvb9d67qtXr5JOp8lkMqTTay81WZbJZrPaw5jP5xEEAUmS8Pv9iKKI2+0mkUigqiqKomC1WimVSqysrJBIJOjq6qJcLmu948rKCteuXSOZTDI/P0+tVlv3UgE4cuQIsViMlZUVjh49yp07d5ienmZ4eJjBwUEEQWByclJ7kTkcDvbs2YPD4aBYLCJJEmNjY9poAUAURQ4cOMDS0hLVahWHw8Hi4qJ2r65evUpzczPLy8soikKtVuPu3bsMDw+zd+9earUaY2NjyLLM0tISkiTR3Ny89sypKvPz8yiKQmtrKz6fD5vNRltbG263m7feeovx8XGcTielUgmAlpYWDAYD4+Pj7Nq1C0EQiMfj7Nq1i97eXpxOJ8PDw4TDYZxOJ9FolJWVFTKZDB6Ph2AwyOLiIpcuXcJutzM1NYXRaESSJGq1GgaDgVu3bnHr1i0SiQT37t1DFEVmZmYIBAKkUilsNhujo6PP8ig/bKiCINDZ2cnxV48jiuJaDxGNkvzybVSr1XDYHQgIhENhXn/9dcxmM16vl46ODqLz8890QY3m5MmT3Lt3j2q1iqqqlEol7Ha7ds1Pg8lkor29nW9+85vkcjlqtdq64+3t7QDrPvf7/VgsFu0Bamtr0+aXxWKRX/3qV0iSRCAQ4I033mBoaIhsNkswGKRarTI7O8tf/MVfcP78eSRJIpvN4na7qdVqmEwmgsEgKysrDA0NYbVaCQQCDA8P09XVxauvvko+n+fOnTva9ZjNZlwul7ZYYjQasVgsFItF2tvbGRoawu/3I8syBoMBg+H3b3xZlpFlmaamJgKBAA6HQ+u5TCYTTqcTURQZGBgglUohCAIGg0G7H/XrEwSBcDjM0tISFotFq6f+4r//BSrLMoIgsHPnzg2nKVarFZvNRjqd5ubNm4iiiCzL2vFSqYTT6cRkMm34m0rS2nKNKIrk8/l1L19Ym0p5PB56eno4duwYt27dIp/P09nZyezsLKVSCbfbjSzL+P1+7HY7DodjzV4cDlpaWjasd6s81GKLxYLP78NsNtPU1MTJkyd55dVXaG1tJRQK0dXVpc0jvF4vJpOJlpYW/H4/8Xicff37numCGoUoinR0dGhv2p6eHi5evEg2myUSieB0Omlvb6epqUn7kbaKyWSit7eXX/7ylzidTs0A3G43oVCIpqYm/H4/DocDk8mE3W7HarXicrno6+vDYrGQTCZxOBzaC66np4d8Po/L5WJgYACv18vBgwe1N3QikeD999/nb//2b2lqagKgt7eXUCiEqqpcuHCBAwcOIAgCzc3NtLa20tvbS1dXF5lMhnK5TCgU4t133wWgqakJq9VKd3c3ZrOZ999/X1sYO3z4MP39/RiNRnp7e7lw4QLpdJq+vj78fj9+vx+DwcDMzAzt7e3awg6A1+vV5piBQIByuYzVaqW3t5fu7m6OHz/O3bt3MZvNGAwGAoGA9px99NFH1Go19uzZw7vvvovH4wGgs7OTSCRCoVCgUqnQ0dGhTTtEUVxn+N3d3VitVhRFwe12U6lUtDIvXryI3W6nu7ub5uZmwuEwNpuN3t5ebt++zdLSEu3t7YyPjxMMBgmFQkiSREtLC6+99hoTExMYDAauXbuG0+nEYrHg8Xh46aWX2L9/PwcOHKCrq4toNEpLS4tWx9TUlDbleFoeekKdTicd7e3YTCLd3d34fD6MRiMmkwlJkhBFEUVRsNlsOBwOrFYru3btwmq1fjlMaX2mC2oUBoOBgwcPYjKZOH78OJIk4XK5sFqtuN1uPB4PFosFk8m06Vt2M0RR1IaNzc3NWm/T0tKCy+XS7lO9lzh58qT2AB85coRCoUC1WsVkMhEKhfB6vbjdbkqlEi0tLbS3t2O32/H5fJRKJQwGA3v37sVkMvHSSy+RTCbp7+/XRgRf+9rXSKfT+P1+8vk8pVJJmxOGw2E8Hg+tra3s3r2ba9euAWsPv81mo7+/n3w+TyqVYseOHZTLZSRJIhKJIIoizc3NnDhxQrtfbrebU6dOoaoqxWKRjo4ODAYDbvfa3nJbWxtGo5GXX34ZWZbp7u7G6/XicDgQRZFQKEQsFqO9vR1BEFheXqa1tZVdu3YBayOP+n2pr0gfOXIEt9vNG2+8gcViweVyUSgU8Hq9SJLESy+9hKIoCILA0aNHKZVK5PN5gsEggiAgiiK9vb3YbDb8fj8AdrudWq2Gx+Ph6NGjZDIZbDYbVqsVn89Hc3MzgiBQqVQQBAGTyUQkEqG1tRWbzYbL5cJisSBJEqdPn8ZoNBIMBjl9+jSlUolgMIjZbKa5uRm/309bW9szPc/Cb342pt6/mEQlD4s3QX6yeZuGowWCfZse1h0eng+Dg4OMjIzwrW99C6t1zetFVVWmp6fp7Oz8A1/d7xkcHMRkMmmGqrPGg4tJD4/5THaI/OH3QV8UZFmmWq1qczmz2dywzfFqtQqszZ/K5TImk0kb0VQqlXUr1aqqUqlUkCQJg8FAX18ffX19moOEIAja+sPToqprC4hOp5NarYaiKE88GnmQ+jU+7fXUF6Qet59cKBQol8u43e6nru8PyYt3xX9kpNNppqamuHXrFtPT05pxNYJYLEYsFkNRFKanpykUCgDa0v/91Ldr6tsxoihqRvrgYtfTUq1WuXLlCqqqkkgkmH/EwqGiKA8tyGzEsxhNfc93ZmbmseeOjIzw4YcfPrTy/aLwZKsoOsDaAzI2Nsby8jJ9fX0YjUZGR0d5++23mZmZIRaLcfjwYYaGhjAajezatYtisajt1aXTaW0T3Gw2s7CwwJ07dzh+/Dijo6MEg0E6OjpYWVlhcnKS/fv3ayuKn376KR6Ph5GREYrFIvv370eWZf7t3/6Nnp4eJEnitddeY2FhgUQigc1mY2xsjG9961skEglaWlpYXl5mfn5em1PXXRNdLhfpdJrbt29z6NAhZmZmMJvN+Hw+RFEkl8tx/fp1Dhw4wJUrV/B4PJpjwtLSEocOHWJkZETb5rDb7Rw4cIBYLMbExAQdHR0EAgHy+TzJZJJ4PE5/fz+jo6O0tLQwNDTEoUOHmJqa0hbjJiYmcDqdqKpKZ2cnV65c4cCBA3g8Hj755BMMBgMLCwvY7Xaam5u5du0aO3bsIJPJEIvFtDWUubk53G43y8vLOJ1/DC45T4ZuqE+BoiicO3eOzs5OLl++jMPhIJVKMTw8TDwex2q1cufOHWKxGMPDw4RCIebn57FYLMTjcaLRKDabjYsXL/L6669z8+ZNTCYTd+/e1cr5zne+Q7FYZGlpCUBbQIE1N714PI7D4dBWmMfHx/F6veTzeQKBAMlkkmw2i8lkIhpd2xO/c+cORqNR88K5d++e5kJnNBqx2+2MjIyQz+e5fv066XRaWxjxer2k02nS6TQDAwNMTU2xe/duSqUSQ0NDZDIZjEYj8/PzmtNCc3Mz1WqVjz76iGAwyMWLF9m/f7+2T1o/b3p6msnJSXw+H5cvX0aSJEZHR/F4PMRiMWRZJhgMsry8jCzLfPHFF3z9619naWkJk8nEwsIC165do7m5mfn5eTKZDGNjY3g8HqrVKpIk0dPTozk2vIjoQ9+nQFEUotEowWCQkZER7WGanp4mmUxiNpuZnp7GaDQSi8U0t8VUKsXCwgLxeJympiYGBga01dNUKsXIyIhmWKnUmuOIy+VidXWVsbExbt++TTgcJplMIgiC5h0kiiJms1lz+Zufn2dubo5oNEqhUNBW7FOpFHfu3CEajWK1WolGo0xNTbGysqJ5GS0tLREMBkkkEhSLRZLJJOPj46ysrBCLxQCYmZnB6XQiCALVapV0Oo0gCIyNjVGtVonH4yiKos2tR0ZGcLlcxGIxBgcHGRsbY3p6mng8zvz8PMViUVvkqrt6xmIxzdUyn89TKBS4desW6XSamZkZrfz6C2ZpaYnLly+ztLTE3NwcCwsLGI1GKpUKsViMtrY2zXHkRUQ31KfEZrNhMBgQBGHdXKytrY2mpibNeOr7Z0ajkWw2SyaTwWq1YrVatUWe1tZWrl27RiqVwmAw4HK51vUEHo9Hm2c6nU5t77WjowNRFDGZTLjdbtxuN93d3ciyzMLCApOTk0iSpF1rOBzmwoULdHR0aNtVsiyTTqe1OWX9/GAwiCRJmn9qKpXSHBBUVSUcDmu9U307o77lZLfbcblcmEwmarWa1mO3tbUxNDSEzWajUCiwuLiobZk4HA4sFou2R+t2u7XtpV27dmG328nn8wwPD2Oz2QC0LZIdO3ZonmD10UNbWxuhUEjbFqlUKtq23IuIbqhPydzcHO+99x5NTU0YjcaHjtvtdi5evMjly5cRBIFgMMjZs2e5ffs2MzMz/Nd//Rf9/f0oisLg4CBWqxWz2cyFCxeIRqO0tj68H93a2sqPfvQjxsfH160s1wMCVldXgbUeP51OYzAYtC2ZSqVCJBJhdnaWnTt3cubMGebm5ggEAnzyySfaqrKqqrz77rssLCxw7949xsfH2b9/P59++ikLCwvAmhfQe++9R7lcXnd9Ho+HmzdvMj8/j8/nY2FhAYfDgaqq/PrXv9b2UPv6+ggGg+Tzec3n1uPx8J//+Z/Mzc1x/vx5ba5ex2Aw0N7ejqqqFAoFDAYDJpOJ8fFx7ZxTp05Rq9U0L6b7EQThify5/9h4eB91m/lT2Ec1ma38y7/8C9///ve13qrumFB3Dpmfn2dwcJBLly7xz//8z9pcqlwuMzg4qAUDuFwuLfLD4XBQKpUQBIGOjg7N0btSqVCpVLhy5QrFYpF8Ps8777yD1+tFVVXsdjsTExNar1SP4IA1b6l8Pk9bWxtXr15laGiIv/mbv9GGsW63m3g8TnNzM263+0t/7SQej4dcLgdAIBDQFodkWcZqtZJMJmlqasLlcpHNZjWXvXQ6jSiKmrNGIBBgfn6earVKMBgkFovR1NRELpcjl8sRCARQVVX7rs1mo1wuo6oqHo9nncFVKhUtKqa1tZVUKkU+n8dmsyHLMmazmeXlZc2lsf65IAiaf/KLspD0+H1UncciiiLHjx/Xhp4b0dLSQjwe52tf+xo2mw2j0ahF0wiCQHt7uzasbG1tRZZlJEnSPGzqD9f99PX1MT09TV9fn+ZsXqerqwv4fQB03WupHnkD4HA4eP311zUXv3o9Ho9Ha4fP58Pj8WAwGPD5fNo5PT092jmqqhIIBLS/7/eZrhtX/frrbVUUBVEUtTY5HA4tiqWOz+fDYDCsuwcPEggEtO94vd6HjNlutyOK4obffVGMdCN0Q30K6u6Jj3JscLlctLW1aS6YgPYARSKRdRv09UiZ+jmbEYlEqFQqdHZ2PrR6+eC1PFiOqqqEQiFtjnb/8fv/XXegf9w5m7X9wfM2u57766mzUb0P8rh2v6iruo9DN9SnQBCEx0beGAwGrZd78Lv1xZAnxWQyPaREsFUEQdCUDnRePPTFJB2dF4B1PWq5tP2ykqqqIBoknC5ng+tTARGHs9HlrqEoMhaLBVWtPJf7pKNzP+sMdSUeew5VqjjdPlRFbXh9VpsDVd2edhgkCbvdTSq5gij+ac6DdP6YWL/w9cAcdfsfQBUFVYVSuYzF/HRztY3LVVFV1uRIpGeL6NiwfBWq1Rqygm6oOtvKRoKm6ww13L79cYr1fdRatUp4Z+Pqq++jJlfj7Ojc3bBy69T3UQOBlhciHlXnRWd9egt9MUlH5wVAN1QdnRcA3VB1dF4AHjLUSqXCjRs3uHHjhqYWsN0MDg5y48YN5ufnN80NshF1B+0n+c7KygqlUolUKkU2m9U+rwtAb5XZ2dl1cpSqqpJMJrWY0TqVSoXFxcUtl6ujsxEPGWoul+PHP/4x7733HtFolGw2S6FQ0MKc8vm8FlBcF68ul8uk02nK5TKZTIZcLkelUiGVSmki13VV8wdRVZWf/OQn/PSnP+XChQsUCgWtrHo99b/rjtz1z3K5nBYZslWGh4dZXV1ldHSUaDSq1VGXEq1Wq1SrVfL5vOaUvtE1f/7551QqFRRFIZvNkk6nGR0dZXJyknK5rF1/Op3WlP90dJ6Wh1wIFUVh//79fO973yOTyfCLX/yCQCDAyMgI3/jGNxgbG2NhYYF9+/bR1NRErVajXC5z5coVjh49yrVr1/D5fOzZs4ePP/6Y/v5+2traKJVKtLW14fG4HroIQRD4+7//ez744AOGhoa4cuUKx48f5+rVqxw6dIgbN27w6quvMj4+Tq1Wo729ndu3b9Pa2srw8DA/+MEPCIW2JlMqSRKrq6vcuXOH/fv389lnn3H48GFWVlaYmprC6/UiCAKDg4OUy2X+8i//ckO/1rpqfT6f10K+nE4no6OjfPe730VVVS5fvszp06ef28hE50+XhwxVVVVu3ryJxWKhv7+fZDKpSWH85je/oaenh1qtxujoKLVaTcsz4vP5uH79uqYId/HiRU6dOqWJYM3NzWlZzx4kkUjwi1/8ArvdzpkzZwiFQgwMDCBJEvl8nkgkwsrKCnfv3iUcDnPu3DmOHTvGzMwMLpfriaIi6vIehUJBS1lw8+ZNqtUqy8vL2ihhdnaWarVKIpEgEAg8VE59uK0oCpFIhKtXr1Iulzl69ChnzpzB7/dTLpe5ffv2lkS+dHQexYaLSX6/n/b2di23RqlUwuv1aglzTCYTuVxOG/ItLi7i8XioVCqaen5dZNlsNhOPxymVSptKOprNZnp6ejh8+DCJRAK/34+qqlpKAJ/Pp8VhOp1OyuWyFrlflyDZKvX4z0AgQCaT0XLm1CVRisUiuVyOcrmshWI9inrAtiiKWm+/vLzMysqKpqCgo/OsPGSoBoOB/v5+Xn31VSwWC01NTTgcDi0VhCzLZDIZHA6H9oDXh8CBQIDm5mZsNhtut5upqSntAQ4Gg5uGILW1tXH69Gn6+/tpaWmhUCjg8/k0hfVEIoHBYNBiDVtbWzW5D0mSnkii0+l0UqlU6O7uJpfLkUgkMJlMWh6WunKd2WzGarVuqgpgNBq5d+8e09PTzM3NaQoCsVhMu25FUQgGg9jt9i1fn47ORjxkqGazWUty5HK52LlzJ11dXSwtLdHR0QGsiVuFw2EymQw+n49XX31VyzXZ3NxMc3MzfX19fPHFF8CadMeOHTs2vYi+vj4MBoOWKmJxcRGfz6dp3kxNTdHU1ER7ezvFYlHLLxKJRGhqatISL20Fm83Gjh076O7uxu/3Y7VaaWlpoaenB7fbzfz8vJbbpFqtbmhkgiDQ0tLCZ599puVZtVqtNDc3c/fuXfr7++nr6yOXyxEKhbT7pqPztDwkxVIXbK7nkZRlGVVVNeEqRVH41a9+RWdnJ3v27NEEvmq1mpZzRRAETUG+UCjwySef8Pbbb9PU1LShFEtdr6ee6+PBsurpBOvbJ3XJk7pau9FoRBDYshRLXVG+rjh/fxBztVrFYrFo2d/q6SAeTGlRKpWQZXmd6kFdxb5+T6rVKmazWcuWpqOzVR4rxSIIwjpFgvqDeH/qgtdee01Lc1fnwdQG9bmsyWTi5MmTj1R/u3/uulHSpno9Dz7s9/+tqltfsKmXL4riQ5nc6scepxSwFaGsZ033oKNT56kUHupZsraC0WgkFAo1LB+Ljs5XkXWG+iS90pN4A91/fr0OVVWfqL7Hl6+wFuz2ZO14ghrWym/wdevobIV1hqoojUtwtBmKIqPCl2pzjatPVVVUFAyiuC3tUFUFURAB+bncJ52vMBv0gesMVa49jwdQxWAw0da+o+H1iaKBULhjW9ohCAY8Xh+yXHlO90lH5/esM9Tlpe13HldRcbv9pFOJBs9bVWx2J6ViEUVpvJOBQTJgt7tJJuMYdIUHnW1nvavtOkO12rZfoFhVZQwGgUIhT6Bpa/65WywZSZIoFPN4vU0NLLdefI1KpYwkmbBYGicho6OzFdYZaqCpZdsrrO+jCoLQ0PrqUiwC29OO+j6qx+PXpVh0ngO6FIuOzguHbqg6Oi8ADTPU3++Tqg999uC/n6Ssx5X3pPu5OjovIg3JPZPJZBgfH8fpdDIzM8OOHTu0uNHTp08zMjJCKBTSsopthqIoXL9+nXK5TEtLC4uLi0iSxJEjRzQVhnqmsVwuR29vL7Is09LS2DlprVZjYGCASqXCsWPHdK8qnT84z2yoqqoyNjbGlStXCAQCjI6OYjAYkCSJDz/8kFdeeYUvvviC06dPP9ZQ6wHphUKB2dlZstkslUqFvr4+YrEYZ8+e1TJqLy4uYrFYcDgcWlbvRlEP+C4UCvT39z8UQaOqKjMzM9RqNbxeL5lMBlmWcbvd2O12EokEsObg7/P5iMfjRCIR3fdX56l5ZkOtVCpcunRJM57+/n6am5sZHR1d2y4pFLRM2I+jVqvx8ssvUywW+c1vfsM3v/lNRkZGSCQSTE5O0t7eTiQSYXFxEavVytzcHMeOHXvWJjxEuVwmEAhQqVRYWVl5yFAVReHnP/855XKZAwcOMDAwQD6f59ChQ+zatYvz589TrVZJpVKcOnWK3/72t/zTP/3ThkoROjpb4ZnnqLdu3dKUDKLRKH4rx0hlAAAgAElEQVS/nw8++IB0Oo3RaMThcLBv374t5a2sx3RevXqVI0eO8PHHH3Pp0iVUVSWRSCDLMisrK3R0dHDgwAFisRgXL16kWCw+azPWURdLkySJcrm84TmyLPPd736XyclJTcRtYWGBoaEhgsEgExMTxONxpqenOXr06GPTNOroPIpnNlRRFCkWiyQSCRwOB+3t7ZoK39LSEsViEbPZvKV5XrVa5de//jW7d++mpaWFo0ePEolEKJfL2Gw2mpqaMJvNWlp4t9tNKpUimUw+azPWYTKZKJVK5HI5XK6HxdhgLRywfmz37t2cPHmSjo4O7t69y549e2hvb+f48ePY7XYcDsefbIJdnefDMw99w+EwlUoFs9mMy+VifHycvr4+Ojo6WFpawmQy4fF4thS/WSqVmJqawuVy4Xa7NeEwRVFob29nbGwMs9mM1+vFaDQSDoe5d+9ew4OyrVYrRqMRVVVxuzd2bmhra8NkMtHV1aUFm3d0dDA/P084HCYSieBwOPD5fA/FvOroPCnP/ASFQiGam5tpa2tDFEXOnTvHqVOnCIVCWK1WnE4nbW1tW1YK3L17N4VCQVMg3LFjB06nk9bWVhYXFwkGg9hsNrq6umhubqZarT4yKP1pqMvRyLKsKTzcjyiKvPTSS9hsNl566SWmpqYoFouEw2FOnjyJw+Ggq6uLdDqtydro6DwLD0mxbDcbSbE0groL4VakWJ6GB6VYdHS2kwelWHTPJB2dFwDdUHV0XgDWzVGr1cZuc2yE+mWsqCA0uD5VRVXlxpf7JYpcRRBAlsvP5T7p6NzPeoUHeevJlp4aVUU0GLHZ7Y2tT1URRAM2W4PLvQ+TyYJA7fncJ52vLo+TYjGZtj9wHNb2IEOhrrVutaHlQnOrDdge31yzVfhS2Ez3/dXZbtaLyq8z1MmJ4W2vXkAl0NTM3OwUFmvjUj0IgMvtZjWxgkFqvNi1xWLCZLKRSCxjNG6cQ0dHp3GsdzddZ6hNDZVG2RhVlb90UBAaXJ+KwSCiqvHtaYdapViq4PH4sT0HyRqdrzrrBfTWGarb49v26uv7qEajsaH11fdRJUnalnZUyjnKlRo2m0vfR9V5DuhSLDo6LxwNcUKt5wAVRRFZljEYDJo6g8Fg0JIpbcUxX1GUdQmXBEHQ8t/U66mX8+D/G0ldOeJxZW/1PB2dZ+GZDTWfz/PZZ5/h8XiIRCJ8/vnnfOMb32BxcZHFxUVef/11Ll++TFtbG93d3Y8sS1VVRkZGmJ2d5cSJE5w7d47Ozk56e3spFApaPQ6Hg3K5rH3e6MBxWEtQXCwWaW199Hw3k8mQzWa1xMqPolwub5rMWUfnUTyzocbjcWKxGKFQiNHRUbq6uvjkk09wuVxUq1WGhoZYXV2lUqnQ1dX1yLKKxSLDw8M4HA7OnTuH1Wrl6tWrtLW1EY/HWVpaIhAIsLi4yNLSEkajEY/HgyAIDdVOqtVqnD17FpfLtamhxuNx7t27h8/nI5PJUC6XyeVyAPT29hKPx7WggsHBQfx+PxcvXuR73/se1WqV6elpnE4nLpeLqakpTbminqLx3r177Nixg6WlJZqammhq2gatYp0XhoYY6sLCAj09PbhcLnw+H7/73e9wuVzYbDbK5TJzc3OEw+HHliUIAj6fj2g0is1mw+fzMT4+rgWMLy4uEolEyGQypNNp5ufn8Xq92yJwVqlUKBQKGx5TVZXp6WlSqRSJRAJJkhgdHdXC7SwWC3Nzc5RKJfL5PGNjY1SrVW7cuMF3vvMdotEoExMTqKqqaUPVkzHX9aDy+TzFYpHR0VHeeeedhrdP58XimReT6nPS+fl5IpEIc3Nz+P1+VldXtQc5FotRKpVQlEdnQTObzRw4cIBEIkEoFEKSJFRV1XpMSZJYXl7GarXi8Xi0oPHNVBieFoPBQG9v76axqIqiMDU1hdVqZXJykmKxyODgoGZcg4ODmubTwMAAmUyGVCqFIAgIgsDCwgKyLDM6Osrt27fJZrMMDg4yPDzM+Pg4H3/8MdVqldHRUaanpze9Dp2vDs9sqD09PfzjP/4jfr+fa9eucfHiRU6cOMGBAwc4cuQIqVSKN954g0QiQbX66ORKlUqFYrHIm2++ydTUFLt379aGkd3d3fzDP/wDTU1NvPzyy+zevZtsNssHH3xAPB5/1mas4/5kzhshyzJLS0t88cUX2kuivb2drq4u2tvbKZVKOBwO2traaGtro1gsEo1G8Xq9WCwWzGYzXV1dWCwWZmdntSF0ffEskUgwOjqKIAh0dnY+pNmk89XjmYe+s7OzfPrppxiNRmZmZgAYGBggnU5z/fp1XnnlFW7fvo3ZbP5ShW/zXrVWq/Huu+9iNpuxWCz8+Mc/Jh6P4/V6kSSJ27dv4/V6OXjwILdv36anp4dz5841XOHhcSiKQjqdBtbm1fXV6DqCIBCLxRgbG+Pw4cNEo1H27dvH6urqOqE3SZIIBAJEo1EkScLr9WK323nppZdYXFwkEAg897bp/HHyzIba1tbGiRMnsFqt5HI57YGrVCpkMhm6uroIBAJYrVZty2UzzGYzJ0+eRBRF7HY7uVwOVVUJBoMAOBwO3G43TqeTV199lWAwiMfj2ZahYUtLy6bKEUajkW9+85vAmlF6vV6KxaI2X67PTeuqD06nk2AwyK5du7BarXR3d2MwGDh9+rRm9G1tbdrwvrOzk2QyqWkY6+g8s6E2NTXh9XoRRVHb74Tf74caDAaCweC6Y5thNBp5+eWXURRl3f5r/bvhcFjbj923bx+iKBIMBr/ct21sFnC3273pC8BgMHDw4EFtv3ejPdT6C0kURVpaWhBFke7ubgRB0ORdfD4fqqpq7a1T/2yre886f/o0xOFhI/Gu+w3zSXqF+w3zwXLv/7te5h+qx3nci2er7RcE4aHjG32m89VGdyHU0XkB0A1VR+cFYL0USzm/7RUqqoLw5WJRI+tTvwyLtzW43DqKUsNsNqGq1edyn3S+umzkvrPOUAvF5/EAqpjNNqxWW8PrMxpNWCyNLxdAFASMRjPlcp7CYxw3dHQazTpDLZdrz6FKFcmoUpNVZKWR9akIgoSsqNRqjW+HJBkQDWv3SBT1nKw6280DC4zqJo6ys4kqLjHd+PpVBbPFwsT4CG3tj3bSf8KCMRol5manaWltvDq9KMgUSxVkWcZmczS8fJ2vNhnFTYd/c+cWKfzD5Q0PRP+1GbnW2FQRAIpaQ1VkJMmI09m48lUUFLmKwWBoaLl1atUCpXIVu92Jw6H73uo0Fo8ksZktwmP2UQ3bkNxIUEBW5bW9wgaWr6oKqtL4cuvIsggIGAzStpSvo/Mo9O0ZHZ0XgIZ0DYqiUCgUsNvtpFIpnE4nuVyOcrmMz+ejWq1iMpm2lH4wlUohyzJ2u51CoYAgCFpwuCzLWtLiWq2G3W5HVdUvnf0bh6qqpNNpVFVtSAJiVV1b4CoUCrhcLt0tUOeJaUiPWigUuHHjBtVqlQ8//JBUKsVHH33Ej370I1ZWVhgeHiaRSDy2HFVV+eSTT/if//kfJicnee+99/jwww+18LhcLseVK1e4evUqH330ESsrK0Sj0YYHjlcqFT7++GN+9atfPTaGdqvlxeNxPvvss4cibXR0tsIz96iqqnL27FkWFxcxGAycOXOGI0eOIAgC3/nOdxAEgY8++oi/+qu/eqy2UbFY1PKpfv7557S3t+Pz+ahUKhiNRj7//HMmJibYsWMH8XickZERurq6Gi7FoigKbW1tTExMkEwm8fv9D7X5/PnzLC4ucujQIW7dukUgEMBisTA2NoYkSezYsQOPx8OlS5fo6elhcHCQlpYWbt68yfDwMAaDgba2Njo6Orh48SInT55kaGgISZI4ffr0loIYdL46PPPTEIvFSKfTSJJEa2srNpuNarVKuVzm7t27VKvVLev9GI1Gent7SSaTpFIpZmZmmJiYoFqtsry8TCaTwWazYTabsdvtRKNRYrFYw3spo9FIIBBAluUNM6XLsszAwICm9OD1epmcnGRsbIxCoYCqqkSjUa5evQrAzZs3MZvNLC4uMjs7Sz6fx2g0Mjo6yp07d0gmk5w5c4bx8XGq1eq2SMvovNhImyUvnk/KtHkfH8ExPz9POp1GlmWam5sJBAKIoojP52NiYoJ8Pk9HR8eWokEkSaJQKFAsFmlqaqJWq5HJZCiVSkSjUS1Yu7W1lWKxyOrqKrOzs/T09OB2u56s5Y9AEARSqRSBQACbzfbQcUVRtOD2iYkJ3n77bUZGRiiXy/j9frxeL7FYjNnZWY4dO8atW7fo6uri5s2bOJ1OfD4f4XBYC7T3eDwsLy/j9XrJ5/OavI3OV4f5pPzIROLib38+zuq+4kN7OFsxUlibf5XLZWKxGMViEavVislkIhKJ0NXVRbm8poq/laFcrVbTFAw7Ozvp6+sjFAqRyWS0xalEIkFHRweiKOLxeLQevZGUSiUGBgYIh8MbzlEFQWDv3r0kEgkSiQS5XA6j0YjL5cLpdGKz2bBYLNhsNkRRZMeOHcBaYLzNZsPlcmG327FardhsNqxWKz09PXR0dDA9Pb0tnlU6f9w8aG/hHy6zuq/Ib38+zpWf3n72OeqxY8c4cOAAAwMDeL1edu/ejcVi4cKFCywtLXHixAkkSdqwZ3qQTCZDPB6nVCpx4MABrl69is1mo6Wlhb6+Po4ePcrg4CBGo5Fiscj+/fu5ePHipkoMT0upVCIWi3HmzBk6OzsfCiA3GAzMzMyQSqU4evQo586dw+l00tfXpwWG14foly9f5tixYxSLRTo7OwmHw5hMJjweD7t378ZqtXL+/HlOnTrF0NAQDodjS6vjOl8tnvmJEEURi8XC3r17EUWREydOYLfb+frXv06lUsHpdNLZ2bkl7R+Xy8Xf/d3fIYoiDoeD3t5e7d8WiwVJkujr68NqtfL222/jcDjw+/04HI116XO5XHz/+9/XJGEeRBAE3nrrLSqVCna7nb179yJJknZuXXImEomwf/9+XC6XptlrMpkQRRFJkvB4PFqP63a76ezs1HR9dXTupyGvbkEQNGOp7zvWdY6ALfWmsLaI09HRof29UU9Zr6e+QFWXNWmkFIvRaKS9fXN/YUEQ1i2Qbdaj2+12fL7NE1bVVfNdrrX5tdOpZ4nT2Rh9D0BH5wVAN1QdnRcA3VB1dF4A1s1RS6VtiD99EFXFYDDR3NLa2PpUEEUDTcGW7WmHquJ0uVGU8vO5Tzo697HOUFcTK9tfo6ridPnI53MUCrmGlmu1OSiXS+TzmcaV+yUGg4TN5iSdTiCKujOCznazfifjgVXf7X8AVVQURSaTTuP2bL4i+sQIoCoq2UwGu6NxXkp1FEWhVCpRqyqYzI2N1tHReRzrDDUU3rHtFSpKDblWRhTFhtanqgq1apnV1ZVtaUelnCOVShNoasXh1BUedLab9Z6C+mKSjs4LgG6oOjovAA0x1PvDsjb7d6NQVVX7b7vq2AqKoqwLr6u7CKqq+siwO0VRGhKMrvPVoiEuhLOzs1gsFnw+H7dv36a3t1eLH41EIiwtLWGz2YhEIlsuM5lMEo1Gyefz9Pf3Y7PZyOfzRKNRTCYT+XyetrY2FEVpiFzK/dRqNcbHxxEEgV27dm0onTIyMkIoFNLcB1OpFC6Xi1KpxPLyMjt37tyw7Lm5OVRVpaWlZcNYVx2djXjmHrVWq3HmzBnu3LlDKpXi3//934nFYnz66af85Cc/YXx8nA8++IAzZ848Ue83Pz/Pr3/9a/7jP/6DVCoFwMzMDB9++CFnz57lpz/9KZOTk9qD30jK5TIff/wxv/zlLzfsHRVF4f3332dhYYFkMkk2m2V6epp4PM7U1BRnz57V4moVRaFarZJKpchms5w7d47PP/+cpaUl0uk06XSafD7P6uqqlg9WR+dBnrlHTaVSLC4u0t7ezvj4OCaTiVQqRa1W45VXXiGfz/Pyyy8zMDBArVbDYNiasFdvby9ms5mPPvqIYDBIrVbj/PnzwJpTvNFo1AKzGy3FYjQaeeutt/jkk0+o1WoPhZ0Vi0Xm5uZYWFjg/fffJxwO4/f7uXLliiYbc+7cOUwmEwcPHiSRSPDzn/+ccDjM2NgY+Xwej8fDzMwMgiAQCoUYGBhg3759/Pmf/3nDxdp0XnyeuUd1uVwcOnQIURTZs2cPPp+PUqmk9SITExNYrVZqtZomUrYVJEni7t27HDlyBEmSGBwc1OJa9+zZw/79+4nFYly/fl1TJmwUkiRhNpspFotUKpWHjpvNZjo6OohEIjidTsbHx0mlUhiNRnbs2IEkSSQSCWKxGBaLhZWVFQ4fPkwymWTHjh3s3r0bgKGhIVZWVpibm+Po0aNIktTwtuj8afDMhmoymQgEAsBaiJvJZMJgMOB2u5EkSZPJFAThiQKiq9Uqc3Nz7Ny5k0KhQCaTQZZlstmsprxQ1yFqtMJDpVIhmUxitVrJ5x9OOGUwGHA4HBQKBW2OWqlUtIDwuoxKvTeuVqvYbDZNLtTj8WiKEL29vRgMBsLhsJZlXUfnQRqymGSxWDT5kEAggNfrxe/3UygU6OzsJJ1O09zcjNFoRFW39iBWq1Xsdrsmt+L1egmHw0SjURwOB5VKhfb2dqamphq+ilqr1VhZWcHn820qIeP1eimXyxgMBpqamnC5XJhMJu2arVYrsiwjiiJut5uZmRn8fj9Op1MLIN+zZw/t7e0YjUasVisOh0NXH9TZkIYYqt/v14KfDx48SGtrK4uLi+RyOY4dO8bvfvc7Dh48+OVccmtliqLIwYMHEUWRcrlMR0cHvb29TE1NYTQaiUQihEIhisWi1qM3CovFgiiKBIPBdQHwdQRBYN++fbS1tTE9Pc3OnTtpaWnBarXicrmwWCwUCgWsViuiKNLR0cHo6CgnTpxAFEUEQSCXy2EymUgkEtqUQZIkfSVYZ0OE3/xsTD3yz2H638k8UgXtUSiKgqqqGAwGbTGlWq0iyzJms5lKpYIkSUiSpLkQTk6Msbv3wKZl1tXljUaj1jMJgvDlgpSBWq2GKIpUq9UvlRJUatUyM9Pj7NzV/5S34/eUy2Xg9yoMdRdCm82Bw+mmWl1LSFUur7lD1q9PEASq1SoffPABb7zxBn6/H0VRNJG3+9unqiqKoiBJEqIooqqqVo7OV5vwD5e58xsXV/9XFK+Sb0yPev9wrb5ief/K5dP0EvWVXWCddGZ9nvvgsUZva9QNdDPq9delYO5HFEWOHz+ujTJEUdzwPB2draLL3W0DgiDQ0tLyh74MnT8h1hmqLD+8FdFoFEVGRUUQGlufqiqoqtLwcrXyFRlBAEWpPpf7pPMVZoPB4TpDrZQbGMi92TWoCgbJjNFkbGx9qoogSo0vt168omCQJBS5/Fzuk47O/awzVIu18Zm6N0agvWPXtqRtCIftiIbt2eKw2NZedfpij872E1/31zpDnZ+d2vbqVRTcbg/x2DJmc+MWWFRUbDYbuWwGg6HxAtYGg4DF6iCdSiBJuoufznaiAus1nh/oUbd/ZVJRZARBoFjINVSKpb49VCzkCQRbG1auVr5SpVIpYTBIz+U+6Xx12WgDY52hNgVD234R9X1Uk9nS0PrqUixGk2lb2lHfR/X5g7oUi85zQJdi0dF54dANVUfnBaDhhlqtVimVSpRKJdLpNIqikM1mnyjEDdbmnOl0WnPlU1WVbDarlV1P+Fs/3mgURWl4yFksFiMejz/+RB2dB2ioZ5Kqqly4cAGn00mtViOdTtPR0cHs7CwOh4Pjx49vuazFxUXu3btHtVrl5MmTZLNZbt68qTm6ZzIZent7MRqNhEKNn5PGYjGGh4c5ffr0Q8fqukj1sLRSqYTFYkFRFGq1muZ+KAgCoihSKBSQJIkLFy6wa9cuKpWK5gNssVgoFotYLBY9y7jOpjTUUHO5HOfPn6etrY1sNqtJi1y8eBG/3/9EhprL5YhGowwPD3Ps2DFmZ2eZmppCEATy+TyJREIL4G40iqIwPT3NtWvXNjTUarXKzMwMLS0tRKNRSqWSFodbKpUIBAJIkoTD4UCWZcbGxnA6nZw7dw6Hw8HU1BQdHR0oioLH4yGRSOB2uzfVWdLRaZihqqrKvXv3NJWCZDKJy+UiEAhoESJPwq5duyiXy4yMjCAIAouLixw7doxoNMrg4CAWi4VEIsHevXtRlDXXwUZRN8S1+Fn1IQeHSqXChx9+yJtvvsn/+T//B7vdTjqdpqmpCVmWCQaDeL1e+vr6WFhY4KOPPsLn87GyssL09DTRaJQ7d+4gCAJer5d0Oo0oivzwhz9sXCN0/qRo2By1XC5z7tw5crkck5OThEIh+vr6OHv2LDt37iSbzWrB5VultbVVe5Drygdms5lvf/vbvPPOOywuLvLf//3fJJPJRjUDgEQiwZUrV5ient5QPcJms+F0Orlz5442dDUajfj9ft58803GxsbIZrNawPipU6dwu92Ew2FefvllHA4HxWJRyzz+1ltvPfEcXuerRcMMVZIkTpw4QW9vrxY5Mjc3B0CpVNpQe+hRjIyMcOvWLWq1GrFYDJvNxsDAAIlEAr/fz/j4OK2trRSLRUqlUqOaAaxl/n7zzTcJh8MbCo2JokhXVxd3796lvb0dj8eDLMtYLBY8Hg8ul4tqtYrVasXj8TA0NKT9bTabUVUVq9WqDZftdruuPqjzSBo29DUYDOzduxeXy0UymaRYLJJKpdi9ezeZTIa2trYv41a3JptSX5DZt28fbrcbl8tFoVDA6/VisVhwu910dHRgsViw2WyNagaw1mMeO3YMn8+3aVxqT08P8Xic/v5+5ubmiEQidHR04HQ68fl8NDc3YzAY6OnpIZvN0tzcTEtLCz6fj/3792uB736/H6/Xy+HDhxvaBp0/LRpmqIIgYLPZ2Llzp7aVksvlCIVCxGIxXC4XoihuWd8oEokgSRIulwu73Y4oithsNux2OxaLhcOHD+NwOAgEArjdjfUUMhgM+P1+3G73piuxra2tfPvb38ZoNOJwOPD5fJoahcViYdeuXQB0dHRgt9u1NkiSxGuvvaZp/nq9XgRB4I033mhoG3T+tGh44Hj9wfZ6vZqCfWvrk/veiqJIe3v7us/u34ap6yTV1SNUtbECZ/crTGx2vN7bhsNh7fNUKoUgCFqbBUF4SNPJZrM9NArQt2Z0HoXumdRgvF4vf/Znf6aHwuk0FN1QG0xd81dHp5GsG/rWqtuv0q6qCipr4meNrG9N1U9peLla+YqMJEmoavW53CcdnftZZ6jFQnbbK1RRMZltWG22htanApLRhMXa2HI1BAGjyUS1UoAGz4d1dB7HOkPN5Ru7H7kZomjBYDA1vD6rTcQgNb5cWNsntjssZEs1yoKedkJnu1m/LbjOUK02+/bXryoYDAKJxDItrY3001UxSgZW4osEmhrvpC8IMvlcFlEUsVgbu2+ro/Mw67341hmq3b5ep2U7UBUZkFEVtaH1qaqCqtQaXm4duVakVKxgsVify33S+aqz3i12naEajdsv2rUmxaIgimJD61uTYlG/3P9sfDtUpfJlRjrjc7lPOjr3o2/P6Oi8ADyXlBZ1h/MndQKQZVkLvr7/7zr1f2+Hc0Hd1XGraRDrSZ+2cv5GoXM6Oo/iufSoyWSSmZmZJ/pOrVbjs88+486dO8CakX766afcvXuX4eFhLl++TCaTYXl5ueGRJ4qiMDAwwKVLl7Zc9srKCjdu3HhsIuJKpcLU1NS2Scjo/Gmy7T2qLMtcu3YNgB07dmz5e/UQudHRUSKRCKurq+TzeSYmJpBlmVQqhclkwufzfZl3tXHGWiqVmJ6exmKxUC6XN8xGNzk5SblcRpIkBEFgbm6OlZUVurq6gLX43Pn5efbt20csFqNcLrNjxw5u3rxJPB6nqanpsRnjdHTqbLuhFgoFZmdnNQf9rbK0tITf7yeRSJDJZJiZmdFkS1ZXVymVSszPz+PxeBreoxYKBUZHRwmHwxuWraoq169fJxAIUC6XqVQq5HI58vk8i4uLVCoVYrEYmUyGYDDInTt3EEWRYrHIzMzMukB4HZ2tsO1D3+XlZS0+dashbgDFYhGHw4Hf76darZLJZLTQM5fLhdfrJZVKsbq62vBhZKVSIZFIkEqlNlWlGBsbw2w2Mzc3x+zsrPb58vIyMzMzTE9Paz3znTt3iMViXLx4EbPZvOV5r45OnW1/Yu7du8etW7e4cuXKE6k8GAwGTXoU1nyDq9UqgiBw8uRJurq6KBQKfPzxx8RisYZes9Fo5OjRo7S2trK8vLzhOU6nk6amJkZHRykUClitViwWC6qqUqlU6OrqIhqNcu/ePSYmJkilUqysrNDd3b0uLE5HZyts+9D3tddew+l0srS09KWsydZ61ebmZn77299SqVTwer04HA7+//bOrbdpLYvjf9vxLcZJmzZuJhcShbanRU1vAqmUclGFxBNPfJXzMt/hfAJeEBJ9QkJCIISEUHlBICEqQSlCoRlxmZYm09Ak4zSJXXvPQ049hIa0YeyewuzfS+LaXXs72yt21lr7v+/du4dkMonJyUksLy9jcHAQjx8/biuX8r8gSRI+fPiAer2OS5cutT2GYRjIsoxgMIhyuezIfb558wZv377FxMQEisUihoeHEY/HUa1WcerUKdy5cweyLGNmZsbVPlN+bTx31EAggImJCaTT6a4UHmKxGObm5pzVu30+H3w+n+O0s7Oz0DQNwWDQdYUHWZYxPz8Py7KgKHvLKhmGwfz8PEKhEK5cuQLDMBCNRkEIQTKZRCaTQTgcRiaTQSwWQzqdhm3biMVi6Onp8UQ+hvJrcyh51EAggEAg0NX/qKqK6elpAP/Nk4bDYWc7k8mAYRgMDAz8GfV1b0aLz+fD5ORkS9vfcvLkSQDAxMREy3HxeNzZtm27RamCYRhomkZzqJSuORRH/VG+vaAPq9ihG7ud+rgbNGrXbwqlG2j4kUL5CaCOSqH8BDxthDsAAAWDSURBVLQ8+hoN3fMGCbHBsj6E+vpdbo8AYNEb6vPkPAixoCjHAFiH8jlRKF/T4qhbW5ueN8gwgKr2geM4V9tjAPiVADjO58l5iIIISVZRLru7fAaF0h65ZavFUatV70W7WIaBLO+gVCq5apcB4OMl6Hr3a9wcBGIDYHj8u6KDpRq8FM/p4KjpE6OeN29bO7CsBkyjgd9GJ12z25w43sCX4r8wOJxxze4uRkNHqVRG5G8JHFPdzdtSKF/TrC9vrbY7/GASzU5QKB1pl8KjUV8K5SfAU0c9jKUE/8rlCgkh3y2J/PrvnY6jUA6CZ45arVaxubkJQgiKxWLXa5iapol8Po9CoeBc5F++fEGlUsHW1hY2NjZQq9VQq7kfALNtG4VCAYVCoeMXwc5OMyjW7phyuQxd10EIQaPRgK7TlA7lx/HEUQkhWFlZwa1bt2CaJu7evdsyZ/MgFAoF3LhxAzdv3kSj0QAhBPfv38ezZ8/w4MEDXLt2DblcDtls1vW7ar1ex8LCAq5fv95xgvfW1haePn26525p2zaeP3+OpaUl2LaNfD6PlZUVulgx5YfxpNZ3927IMIxzZ+2W9fV1nD17Fuvr69jc3ISiKCgWi+jv7wchBBzH4dOnT05xvptOYFnNdWYMw3Def8vi4iKWlpYgiiIWFhZgmiaSySSy2SySySSi0SgePXqE8fFxEELw8eNH1Go1rK2todFo4Pz581hcXERfXx9EUcTIyAhev36NdDqNTCZDJ5dTWvDkauA4DtFoFIIgQJIkRCKRri88XdfR39+PQCAAwzAgSRJOnDgBSZIwODiIkZERbGxsYHV11XWFB0IILMuCZVkwTXPP/nq9jlwuh9HRUVQqFYiiiGAwiGw2i0gkgnfv3kHTNKiq6jj8ixcvoKoq8vk8/H4/stksJEly9JZevnyJ5eVl1/PLlF8Dzxw1EomA4zjIsgxN07p2VJZlYRgGarUaTNOEIAhIJBIQBAFDQ0NQVRWEEORyOVQqFVf7b9s2RFGE3+9v+9vasizouo6xsTFYloXe3l5omoZqtYrR0VHouu7IyOwKmNXrdViWBZ7nkUgkUC6Xnbm0kiTh1atXziM+nWFD+RbPnq9YlnXU+wRB6NpRg8EgisUiyuUyDMNwFP94nnf2RaNR2LbtekDJtm2Ew2Fomtb2jsrzPBRFQT6fh6Io0HUdpVIJoVDI2ceyLDiOg2VZkCQJp0+fxurqKhRFgSiK6O3tdfSeUqkUSqUS4vE4ZFmmjkrZg2fzURVFwfDwMICmWkO3E8eHhoZw+/ZtRKNRyLIM0zQRCoWgqioajYbzO1DXdWia5mrfVVWFLMvgeR4DAwN79guCgLm5OTx8+BCzs7P4/Pkztre3ce7cOfT09GBqagp+vx/hcBjb29tQVRVzc3N4//49OI7DwMAAjh8/jidPnoBlWUxPT8MwDKRSKYRCIVfPhfJrcCiOmkgk2gZkOiHLMi5fvgxBECCKInieh9/vByEEPM9jbGwMoiji4sWLrmsm+Xw+nDlzpqPyfSqVwtWrVxEIBDA0NATbtqGqKjiOw9TUFFiWxfj4uCO54vf7HQ3iXSXCCxcugOM4qKqKmZkZiKLY9edE+f+AId8Jl/5zy0K81/3i8+YiUQ38I/fOk1rfD+9XPa319fuPHala3/3GyatxpLjLfuPki/3eXg5z7Y+9j3yUo0e8l8P3xhCg4/izsN84dnzO8iRBv2vT5dxn0xZx3e5XLTivR6lw4SCBp6PUX0p79hvHjo66s9Nd2d9BaC5kDPA+zl37hMAmFnxu2/0Ty94Bx7Kw7R1P7P8oPC/ve8xR6i+lPfuNY0dHTf3d3fxkK2EAXtgPeWQXaGazLA/td8/aH/s7qrfjSHGD/cbxP5Z07HUNwo5KAAAAAElFTkSuQmCC)"
      ],
      "metadata": {
        "id": "sdOfppl_ZOo3"
      }
    },
    {
      "cell_type": "code",
      "source": [
        "#Manage data for variable 1 (Wake_time)"
      ],
      "metadata": {
        "id": "BGXegclY57pS"
      },
      "execution_count": 3,
      "outputs": []
    },
    {
      "cell_type": "code",
      "source": [
        "df['H4SP1H'].value_counts()"
      ],
      "metadata": {
        "id": "nD2WHHcbAbWx"
      },
      "execution_count": null,
      "outputs": []
    },
    {
      "cell_type": "code",
      "source": [
        "df['Hour_Wake'] = df['H4SP1H']\n",
        "df['Hour_Wake']= pd.to_numeric(df['Hour_Wake'],errors= 'coerce')\n",
        "df['Hour_Wake']= df['Hour_Wake'].loc[df['Hour_Wake'] < 96]\n",
        "df['Hour_Wake']= df['Hour_Wake'].loc[df['Hour_Wake'] < 98]\n",
        "df['Hour_Wake']= df['Hour_Wake'].loc[df['Hour_Wake'] != ' ']\n",
        "df['Hour_Wake'].value_counts()"
      ],
      "metadata": {
        "id": "7mdzjDtYAjBZ"
      },
      "execution_count": null,
      "outputs": []
    },
    {
      "cell_type": "code",
      "source": [
        "df['H4SP1M'].value_counts()"
      ],
      "metadata": {
        "id": "Ydpr8K5zAp6w"
      },
      "execution_count": null,
      "outputs": []
    },
    {
      "cell_type": "code",
      "source": [
        "df['Minutes_Wake']= df['H4SP1M']\n",
        "df['Minutes_Wake']= pd.to_numeric(df['Minutes_Wake'],errors= 'coerce')\n",
        "df['Minutes_Wake']= df['Minutes_Wake'].loc[df['Minutes_Wake'] < 96]\n",
        "df['Minutes_Wake']= df['Minutes_Wake'].loc[df['Minutes_Wake'] < 98]\n",
        "df['Minutes_Wake']= df['Minutes_Wake'].loc[df['Minutes_Wake'] != ' ']\n",
        "df['Minutes_Wake'].value_counts()"
      ],
      "metadata": {
        "id": "stJ3ZiloArMd"
      },
      "execution_count": null,
      "outputs": []
    },
    {
      "cell_type": "code",
      "source": [
        "df['H4SP1T'].value_counts()"
      ],
      "metadata": {
        "id": "_sebV-XHAuX3"
      },
      "execution_count": null,
      "outputs": []
    },
    {
      "cell_type": "code",
      "source": [
        "df['Am_Pm_Wake']=df['H4SP1T']\n",
        "df['Am_Pm_Wake'] = df['Am_Pm_Wake'].loc[df['Am_Pm_Wake'] !=' ']\n",
        "df['Am_Pm_Wake'] = df['Am_Pm_Wake'].loc[df['Am_Pm_Wake'] <'6']\n",
        "df['Am_Pm_Wake'] = df['Am_Pm_Wake'].loc[df['Am_Pm_Wake'] <'8']\n",
        "df['Am_Pm_Wake'].replace(['1','2'],['AM','PM'],inplace=True)\n",
        "df['Am_Pm_Wake'].value_counts()"
      ],
      "metadata": {
        "id": "QuZ5MaX8AuiC"
      },
      "execution_count": null,
      "outputs": []
    },
    {
      "cell_type": "code",
      "source": [
        "df_time_convert= df[['Am_Pm_Wake','Hour_Wake','Minutes_Wake']]\n",
        "#df_time_convert = df[['am_pm', 'hour', 'minutes']]"
      ],
      "metadata": {
        "id": "WIt1dG7SAuoj"
      },
      "execution_count": null,
      "outputs": []
    },
    {
      "cell_type": "code",
      "source": [
        "#Drops the missing values/cleans it \n",
        "df_time_convert.dropna(inplace=True)"
      ],
      "metadata": {
        "id": "H-TyklLqAuvI"
      },
      "execution_count": null,
      "outputs": []
    },
    {
      "cell_type": "code",
      "source": [
        "df_time_convert"
      ],
      "metadata": {
        "id": "YSSkD1njAu19"
      },
      "execution_count": null,
      "outputs": []
    },
    {
      "cell_type": "code",
      "source": [
        "def to_military_time_float(in_hour,in_min,am_pm):\n",
        "  out_time = 0\n",
        "  if in_hour == '12':\n",
        "\n",
        "    if am_pm == 'AM': \n",
        "      out_time = 0\n",
        "    else:\n",
        "      out_time = int(in_hour)\n",
        "  \n",
        "  elif (0 < int(in_hour) < 12):\n",
        "    if am_pm == 'AM':\n",
        "      out_time = int(in_hour)\n",
        "    else:\n",
        "      out_time = int(in_hour) + 12\n",
        "  \n",
        "  \n",
        "\n",
        "  out_min = int(in_min) / 60\n",
        "\n",
        "  out_time += out_min \n",
        "\n",
        "\n",
        "\n",
        "\n",
        "  return out_time"
      ],
      "metadata": {
        "id": "kcc1HPS8A-N9"
      },
      "execution_count": null,
      "outputs": []
    },
    {
      "cell_type": "code",
      "source": [
        "#df_time_convert['Time Value (float)'] =  df_time_convert.apply(lambda x: to_military_time_float(x['hour'],x['minutes'],x['am_pm']),axis = 1)"
      ],
      "metadata": {
        "id": "9-Khqs4AA-Sm"
      },
      "execution_count": null,
      "outputs": []
    },
    {
      "cell_type": "code",
      "source": [
        "df_time_convert['Time Value (float)'] = df_time_convert.apply(lambda x: to_military_time_float(x['Hour_Wake'],x['Minutes_Wake'],x['Am_Pm_Wake']),axis = 1)\n",
        "#axis=1, to the column, apply the values \n",
        "df_time_convert"
      ],
      "metadata": {
        "id": "7tt4Y-0LA-W-"
      },
      "execution_count": null,
      "outputs": []
    },
    {
      "cell_type": "code",
      "source": [
        "#df= df.assign(Name for the times = df_time_convert['Time Value (float)'])"
      ],
      "metadata": {
        "id": "Aq3ZqaSmA-bu"
      },
      "execution_count": null,
      "outputs": []
    },
    {
      "cell_type": "code",
      "source": [
        "df= df.assign(Wake_Military_Times= df_time_convert['Time Value (float)'])"
      ],
      "metadata": {
        "id": "J6Na1eiEBOPy"
      },
      "execution_count": null,
      "outputs": []
    },
    {
      "cell_type": "code",
      "source": [
        "df['H4SP1T'].value_counts()"
      ],
      "metadata": {
        "id": "02_WUgxFBWoR"
      },
      "execution_count": null,
      "outputs": []
    },
    {
      "cell_type": "code",
      "source": [
        "df['Wake_Military_Times'].mode().round(2)"
      ],
      "metadata": {
        "id": "hzcniF1wBW2O"
      },
      "execution_count": null,
      "outputs": []
    },
    {
      "cell_type": "code",
      "source": [
        "#Graphs and tables or statistics"
      ],
      "metadata": {
        "id": "Q1Pv5DMz5-2C"
      },
      "execution_count": 4,
      "outputs": []
    },
    {
      "cell_type": "code",
      "source": [
        "df['Wake_Military_Times']"
      ],
      "metadata": {
        "id": "6fCpGt3eaEIr"
      },
      "execution_count": null,
      "outputs": []
    },
    {
      "cell_type": "code",
      "source": [
        "df['Wake_Military_Times'].describe().round(2)"
      ],
      "metadata": {
        "id": "BhrrrLlxZ-tn"
      },
      "execution_count": null,
      "outputs": []
    },
    {
      "cell_type": "code",
      "source": [
        "sns.histplot(x = 'Wake_Military_Times', data =df, stat='percent', bins = 15, color = 'pink', kde = True)"
      ],
      "metadata": {
        "id": "qOiF0dECZxp8"
      },
      "execution_count": null,
      "outputs": []
    },
    {
      "cell_type": "code",
      "source": [
        "sns.boxplot(x = 'Wake_Military_Times', data =df, color ='pink')v "
      ],
      "metadata": {
        "id": "Xk5k-_ASZyqt"
      },
      "execution_count": null,
      "outputs": []
    },
    {
      "cell_type": "code",
      "source": [
        "#Manage data for variable #2 (Difficulties)"
      ],
      "metadata": {
        "id": "vwMCXLXkcDKp"
      },
      "execution_count": null,
      "outputs": []
    },
    {
      "cell_type": "code",
      "source": [
        "df['H4MH6'].value_counts()"
      ],
      "metadata": {
        "id": "iRwsAqpfck-U"
      },
      "execution_count": null,
      "outputs": []
    },
    {
      "cell_type": "code",
      "source": [
        "df['EXP'] = df['H4MH6']"
      ],
      "metadata": {
        "id": "OyL4G1ficmgl"
      },
      "execution_count": null,
      "outputs": []
    },
    {
      "cell_type": "code",
      "source": [
        "df['EXP'] = df['EXP'].loc[ df['EXP'] !=' ']\n",
        "df['EXP'] = df['EXP'].loc[ df['EXP'] !='8']\n",
        "df['EXP'] = df['EXP'].loc[ df['EXP'] !='6']\n",
        "df['EXP'].value_counts()"
      ],
      "metadata": {
        "id": "Jotlv_BWcqOL"
      },
      "execution_count": null,
      "outputs": []
    },
    {
      "cell_type": "code",
      "source": [
        "#Graphs and tables"
      ],
      "metadata": {
        "id": "28ZwNbl1dSaj"
      },
      "execution_count": null,
      "outputs": []
    },
    {
      "cell_type": "code",
      "source": [
        "df['EXP'].replace(['0','1','2','3','4'] , ['Never', 'Almost Never', 'Sometimes','Fairly Often','Very Often'], inplace = True)\n",
        "df['EXP'].value_counts()"
      ],
      "metadata": {
        "id": "I1uz9QhIctqI"
      },
      "execution_count": null,
      "outputs": []
    },
    {
      "cell_type": "code",
      "source": [
        "df['EXP'].value_counts().plot(kind ='pie', autopct='%1.1f%%', colors=['pink', 'hotpink', 'rosybrown', 'gray', 'skyblue'])"
      ],
      "metadata": {
        "id": "Oq8PgDtfcwGg"
      },
      "execution_count": null,
      "outputs": []
    },
    {
      "cell_type": "code",
      "source": [
        "plt.xlabel(\"How often\")\n",
        "plt.ylabel(\"Percent\")\n",
        "plt.title(\"How often have you felt difficulties were so high you could not overcome them\")\n",
        "df['EXP'].value_counts(normalize = True).plot(kind ='barh', color = 'red', width = 0.2, alpha = 0.5, grid = True)"
      ],
      "metadata": {
        "id": "KKmx_WkNc7Dl"
      },
      "execution_count": null,
      "outputs": []
    },
    {
      "cell_type": "markdown",
      "source": [
        "\n",
        "```\n",
        "`# This is formatted as code`\n",
        "```\n",
        "\n",
        "Research Question #2 Is there an association between how often you damaged property you didn’t own in the past year and how often did you stole something worth more than 50 dollars in the past year"
      ],
      "metadata": {
        "id": "8VHNte5tahjj"
      }
    },
    {
      "cell_type": "markdown",
      "source": [
        "Codebook 2:"
      ],
      "metadata": {
        "id": "wZC59jy36Ecy"
      }
    },
    {
      "cell_type": "markdown",
      "source": [
        "![Screenshot 2023-04-30 8.47.03 PM.png](data:image/png;base64,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)"
      ],
      "metadata": {
        "id": "8FKAZv3_azPP"
      }
    },
    {
      "cell_type": "markdown",
      "source": [
        "![Screenshot 2023-04-30 8.50.17 PM.png](data:image/png;base64,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)"
      ],
      "metadata": {
        "id": "PPyW3wfBbiTb"
      }
    },
    {
      "cell_type": "markdown",
      "source": [],
      "metadata": {
        "id": "gEo3fVydZtEb"
      }
    },
    {
      "cell_type": "code",
      "source": [
        "#Manage data for variable 1 (Property_damage)"
      ],
      "metadata": {
        "id": "1N6BlzE76JZJ"
      },
      "execution_count": 5,
      "outputs": []
    },
    {
      "cell_type": "code",
      "source": [
        "df['H4DS1'].value_counts()"
      ],
      "metadata": {
        "id": "nSfIvk9odIFi"
      },
      "execution_count": null,
      "outputs": []
    },
    {
      "cell_type": "code",
      "source": [
        "df['EXP'] = df['H4DS1']"
      ],
      "metadata": {
        "id": "Rqr7CgfkdaJe"
      },
      "execution_count": null,
      "outputs": []
    },
    {
      "cell_type": "code",
      "source": [
        "df['EXP'] = df['EXP'].loc[ df['EXP'] !=' ']\n",
        "df['EXP'] = df['EXP'].loc[ df['EXP'] !='8']\n",
        "df['EXP'] = df['EXP'].loc[ df['EXP'] !='6']\n",
        "df['EXP'].value_counts()"
      ],
      "metadata": {
        "id": "Fuzu_c4fdcxx"
      },
      "execution_count": null,
      "outputs": []
    },
    {
      "cell_type": "code",
      "source": [
        "#Graphs and tables or statistics"
      ],
      "metadata": {
        "id": "zLkanovP6L9s"
      },
      "execution_count": 6,
      "outputs": []
    },
    {
      "cell_type": "code",
      "source": [
        "df['EXP'].replace(['0','1','2','3'] , ['Never', '1 or 2 times', '3 or 4 times','5 or more times'], inplace = True)\n",
        "df['EXP'].value_counts()"
      ],
      "metadata": {
        "id": "-9L3QWyMdfw7"
      },
      "execution_count": null,
      "outputs": []
    },
    {
      "cell_type": "code",
      "source": [
        "explode = (50, 60, 80, 90)\n",
        "df['EXP'].value_counts().plot(kind ='pie', autopct='%90f%%',  x=explode, shadow=True, startangle=80)\n",
        "plt.legend(loc =\"lower right\")"
      ],
      "metadata": {
        "id": "uy5ntN0zdki9"
      },
      "execution_count": null,
      "outputs": []
    },
    {
      "cell_type": "code",
      "source": [
        "plt.xlabel(\"How often\")\n",
        "plt.ylabel(\"Percent\")\n",
        "plt.title(\"how often did you damage property that didn't belong to you\")\n",
        "df['EXP'].value_counts(normalize = True).plot(kind ='barh', color = 'hotpink', width = 0.8, alpha = 1.0, grid = True)"
      ],
      "metadata": {
        "id": "54aGXle3d8ts"
      },
      "execution_count": null,
      "outputs": []
    },
    {
      "cell_type": "code",
      "source": [
        "#Variable #2 (Steal)"
      ],
      "metadata": {
        "id": "uWv1wRm4d9s5"
      },
      "execution_count": null,
      "outputs": []
    },
    {
      "cell_type": "code",
      "source": [
        "df['H4DS2'].value_counts()"
      ],
      "metadata": {
        "id": "V1Opbpsqe38k"
      },
      "execution_count": null,
      "outputs": []
    },
    {
      "cell_type": "code",
      "source": [
        "df['EXP'] = df['H4DS2']"
      ],
      "metadata": {
        "id": "7yUTI7fle7Sd"
      },
      "execution_count": null,
      "outputs": []
    },
    {
      "cell_type": "code",
      "source": [
        "df['EXP'] = df['EXP'].loc[ df['EXP'] !=' ']\n",
        "df['EXP'] = df['EXP'].loc[ df['EXP'] !='8']\n",
        "df['EXP'] = df['EXP'].loc[ df['EXP'] !='3']\n",
        "df['EXP'].value_counts()"
      ],
      "metadata": {
        "id": "68Y7-lXUfPb7"
      },
      "execution_count": null,
      "outputs": []
    },
    {
      "cell_type": "code",
      "source": [
        "#Graphs and tables or statistics"
      ],
      "metadata": {
        "id": "M2yhQDAYfWge"
      },
      "execution_count": null,
      "outputs": []
    },
    {
      "cell_type": "code",
      "source": [
        "df['EXP'].replace(['0','1','2','6'] , ['Never', '1 or 2 times', '3 or 4 times','5 or more times'], inplace = True)\n",
        "df['EXP'].value_counts()"
      ],
      "metadata": {
        "id": "LqAn6pgifXir"
      },
      "execution_count": null,
      "outputs": []
    },
    {
      "cell_type": "code",
      "source": [
        "explode = (50, 60, 80, 90)\n",
        "df['EXP'].value_counts().plot(kind ='pie', autopct='%90f%%',  x=explode, shadow=True, startangle=80)\n",
        "plt.legend(loc =\"lower right\")"
      ],
      "metadata": {
        "id": "ee2TGUUjfde1"
      },
      "execution_count": null,
      "outputs": []
    },
    {
      "cell_type": "code",
      "source": [
        "plt.xlabel(\"How often\")\n",
        "plt.ylabel(\"Percent\")\n",
        "plt.title(\"how often did you steal something worth more than 50 dollars\")\n",
        "df['EXP'].value_counts(normalize = True).plot(kind ='barh', color = 'hotpink', width = 0.8, alpha = 1.0, grid = True)"
      ],
      "metadata": {
        "id": "vFicuwHqfeUA"
      },
      "execution_count": null,
      "outputs": []
    }
  ]
}