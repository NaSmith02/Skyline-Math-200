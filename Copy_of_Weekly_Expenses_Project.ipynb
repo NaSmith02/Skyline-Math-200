{
  "nbformat": 4,
  "nbformat_minor": 0,
  "metadata": {
    "colab": {
      "provenance": [],
      "include_colab_link": true
    },
    "kernelspec": {
      "name": "python3",
      "display_name": "Python 3"
    },
    "language_info": {
      "name": "python"
    }
  },
  "cells": [
    {
      "cell_type": "markdown",
      "metadata": {
        "id": "view-in-github",
        "colab_type": "text"
      },
      "source": [
        "<a href=\"https://colab.research.google.com/github/NaSmith02/Skyline-Math-200/blob/main/Copy_of_Weekly_Expenses_Project.ipynb\" target=\"_parent\"><img src=\"https://colab.research.google.com/assets/colab-badge.svg\" alt=\"Open In Colab\"/></a>"
      ]
    },
    {
      "cell_type": "markdown",
      "source": [
        "### **Weekly Expenses Project**\n",
        "\n"
      ],
      "metadata": {
        "id": "nkjyCylH7XUc"
      }
    },
    {
      "cell_type": "code",
      "execution_count": null,
      "metadata": {
        "id": "dLRrECDC7SHo"
      },
      "outputs": [],
      "source": [
        "import pandas as pd\n",
        "import seaborn as sns"
      ]
    },
    {
      "cell_type": "code",
      "source": [
        "# Read in you weekly expenses dataset (Make sure it is a csv file)\n",
        "link = 'https://raw.githubusercontent.com/NaSmith02/Skyline-Math-200/main/Weekly%20Expenses%20Nailah%20Smith%20-%20Sheet1%20-%20Weekly%20Expenses_First_LastName%20-%20Sheet1%20(6).csv'\n",
        "df = pd.read_csv(link)\n",
        "df"
      ],
      "metadata": {
        "id": "by3dUpXa8Ad7",
        "colab": {
          "base_uri": "https://localhost:8080/",
          "height": 771
        },
        "outputId": "fe55bdb6-4aa9-4e57-aa5d-29c5089074cb"
      },
      "execution_count": null,
      "outputs": [
        {
          "output_type": "execute_result",
          "data": {
            "text/plain": [
              "          Date Day of the Week  Amount    Description        Category  \\\n",
              "0    1/20/2023          Friday   15.00      Sky Grill            Food   \n",
              "1    1/20/2023          Friday   26.07       Doordash            Food   \n",
              "2    1/21/2023        Saturday  106.66      Groceries            Food   \n",
              "3    1/21/2023        Saturday   11.40      Starbucks        Beverage   \n",
              "4    1/22/2023          Sunday    7.76            CVS            Food   \n",
              "5    1/22/2023          Sunday   23.88  Beauty Supply   Hair Products   \n",
              "6    1/22/2023          Sunday    8.28        Safeway            Food   \n",
              "7   1/23/20223        Monday      8.25      Sky Grill            Food   \n",
              "8    1/23/2023        Monday      5.00           BART  Transportation   \n",
              "9    1/24/2023         Tuesday    8.25      Sky Grill            Food   \n",
              "10   1/25/2023       Wednesday    6.93      Boba Guys        Beverage   \n",
              "11   1/25/2023       Wednesday   36.49       Doordash            Food   \n",
              "12   1/26/2023        Thursday    3.00     Book Store            Food   \n",
              "13   1/26/2023        Thursday   10.00      Sky Grill            Food   \n",
              "14   1/27/2023          Friday    5.00     Book Store            Food   \n",
              "15   1/27/2023          Friday   11.98  VengaEmpanada            Food   \n",
              "16   1/28/2023        Saturday   20.38    Jamba Juice            Food   \n",
              "17   1/28/2023        Saturday   70.00  Beauty Supply   Hair Products   \n",
              "18   1/28/2023        Saturday    4.65       Cinemark            Food   \n",
              "19   1/29/2023          Sunday    0.00            NaN             NaN   \n",
              "20   1/30/2023        Monday      5.00     Book Store        Beverage   \n",
              "21   1/31/2023         Tuesday    5.00     Book Store        Beverage   \n",
              "22   1/31/2023         Tuesday    3.65           BART  Transportation   \n",
              "\n",
              "   Method of Payment  \n",
              "0              Debit  \n",
              "1              Debit  \n",
              "2              Debit  \n",
              "3              Debit  \n",
              "4              Debit  \n",
              "5              Debit  \n",
              "6              Debit  \n",
              "7              Debit  \n",
              "8              Debit  \n",
              "9              Debit  \n",
              "10             Debit  \n",
              "11             Debit  \n",
              "12             Debit  \n",
              "13             Debit  \n",
              "14             Debit  \n",
              "15             Debit  \n",
              "16             Debit  \n",
              "17              Cash  \n",
              "18             Debit  \n",
              "19               NaN  \n",
              "20             Debit  \n",
              "21             Debit  \n",
              "22             Debit  "
            ],
            "text/html": [
              "\n",
              "  <div id=\"df-b0e5d720-c0de-4a39-92a6-8b35a88442ec\">\n",
              "    <div class=\"colab-df-container\">\n",
              "      <div>\n",
              "<style scoped>\n",
              "    .dataframe tbody tr th:only-of-type {\n",
              "        vertical-align: middle;\n",
              "    }\n",
              "\n",
              "    .dataframe tbody tr th {\n",
              "        vertical-align: top;\n",
              "    }\n",
              "\n",
              "    .dataframe thead th {\n",
              "        text-align: right;\n",
              "    }\n",
              "</style>\n",
              "<table border=\"1\" class=\"dataframe\">\n",
              "  <thead>\n",
              "    <tr style=\"text-align: right;\">\n",
              "      <th></th>\n",
              "      <th>Date</th>\n",
              "      <th>Day of the Week</th>\n",
              "      <th>Amount</th>\n",
              "      <th>Description</th>\n",
              "      <th>Category</th>\n",
              "      <th>Method of Payment</th>\n",
              "    </tr>\n",
              "  </thead>\n",
              "  <tbody>\n",
              "    <tr>\n",
              "      <th>0</th>\n",
              "      <td>1/20/2023</td>\n",
              "      <td>Friday</td>\n",
              "      <td>15.00</td>\n",
              "      <td>Sky Grill</td>\n",
              "      <td>Food</td>\n",
              "      <td>Debit</td>\n",
              "    </tr>\n",
              "    <tr>\n",
              "      <th>1</th>\n",
              "      <td>1/20/2023</td>\n",
              "      <td>Friday</td>\n",
              "      <td>26.07</td>\n",
              "      <td>Doordash</td>\n",
              "      <td>Food</td>\n",
              "      <td>Debit</td>\n",
              "    </tr>\n",
              "    <tr>\n",
              "      <th>2</th>\n",
              "      <td>1/21/2023</td>\n",
              "      <td>Saturday</td>\n",
              "      <td>106.66</td>\n",
              "      <td>Groceries</td>\n",
              "      <td>Food</td>\n",
              "      <td>Debit</td>\n",
              "    </tr>\n",
              "    <tr>\n",
              "      <th>3</th>\n",
              "      <td>1/21/2023</td>\n",
              "      <td>Saturday</td>\n",
              "      <td>11.40</td>\n",
              "      <td>Starbucks</td>\n",
              "      <td>Beverage</td>\n",
              "      <td>Debit</td>\n",
              "    </tr>\n",
              "    <tr>\n",
              "      <th>4</th>\n",
              "      <td>1/22/2023</td>\n",
              "      <td>Sunday</td>\n",
              "      <td>7.76</td>\n",
              "      <td>CVS</td>\n",
              "      <td>Food</td>\n",
              "      <td>Debit</td>\n",
              "    </tr>\n",
              "    <tr>\n",
              "      <th>5</th>\n",
              "      <td>1/22/2023</td>\n",
              "      <td>Sunday</td>\n",
              "      <td>23.88</td>\n",
              "      <td>Beauty Supply</td>\n",
              "      <td>Hair Products</td>\n",
              "      <td>Debit</td>\n",
              "    </tr>\n",
              "    <tr>\n",
              "      <th>6</th>\n",
              "      <td>1/22/2023</td>\n",
              "      <td>Sunday</td>\n",
              "      <td>8.28</td>\n",
              "      <td>Safeway</td>\n",
              "      <td>Food</td>\n",
              "      <td>Debit</td>\n",
              "    </tr>\n",
              "    <tr>\n",
              "      <th>7</th>\n",
              "      <td>1/23/20223</td>\n",
              "      <td>Monday</td>\n",
              "      <td>8.25</td>\n",
              "      <td>Sky Grill</td>\n",
              "      <td>Food</td>\n",
              "      <td>Debit</td>\n",
              "    </tr>\n",
              "    <tr>\n",
              "      <th>8</th>\n",
              "      <td>1/23/2023</td>\n",
              "      <td>Monday</td>\n",
              "      <td>5.00</td>\n",
              "      <td>BART</td>\n",
              "      <td>Transportation</td>\n",
              "      <td>Debit</td>\n",
              "    </tr>\n",
              "    <tr>\n",
              "      <th>9</th>\n",
              "      <td>1/24/2023</td>\n",
              "      <td>Tuesday</td>\n",
              "      <td>8.25</td>\n",
              "      <td>Sky Grill</td>\n",
              "      <td>Food</td>\n",
              "      <td>Debit</td>\n",
              "    </tr>\n",
              "    <tr>\n",
              "      <th>10</th>\n",
              "      <td>1/25/2023</td>\n",
              "      <td>Wednesday</td>\n",
              "      <td>6.93</td>\n",
              "      <td>Boba Guys</td>\n",
              "      <td>Beverage</td>\n",
              "      <td>Debit</td>\n",
              "    </tr>\n",
              "    <tr>\n",
              "      <th>11</th>\n",
              "      <td>1/25/2023</td>\n",
              "      <td>Wednesday</td>\n",
              "      <td>36.49</td>\n",
              "      <td>Doordash</td>\n",
              "      <td>Food</td>\n",
              "      <td>Debit</td>\n",
              "    </tr>\n",
              "    <tr>\n",
              "      <th>12</th>\n",
              "      <td>1/26/2023</td>\n",
              "      <td>Thursday</td>\n",
              "      <td>3.00</td>\n",
              "      <td>Book Store</td>\n",
              "      <td>Food</td>\n",
              "      <td>Debit</td>\n",
              "    </tr>\n",
              "    <tr>\n",
              "      <th>13</th>\n",
              "      <td>1/26/2023</td>\n",
              "      <td>Thursday</td>\n",
              "      <td>10.00</td>\n",
              "      <td>Sky Grill</td>\n",
              "      <td>Food</td>\n",
              "      <td>Debit</td>\n",
              "    </tr>\n",
              "    <tr>\n",
              "      <th>14</th>\n",
              "      <td>1/27/2023</td>\n",
              "      <td>Friday</td>\n",
              "      <td>5.00</td>\n",
              "      <td>Book Store</td>\n",
              "      <td>Food</td>\n",
              "      <td>Debit</td>\n",
              "    </tr>\n",
              "    <tr>\n",
              "      <th>15</th>\n",
              "      <td>1/27/2023</td>\n",
              "      <td>Friday</td>\n",
              "      <td>11.98</td>\n",
              "      <td>VengaEmpanada</td>\n",
              "      <td>Food</td>\n",
              "      <td>Debit</td>\n",
              "    </tr>\n",
              "    <tr>\n",
              "      <th>16</th>\n",
              "      <td>1/28/2023</td>\n",
              "      <td>Saturday</td>\n",
              "      <td>20.38</td>\n",
              "      <td>Jamba Juice</td>\n",
              "      <td>Food</td>\n",
              "      <td>Debit</td>\n",
              "    </tr>\n",
              "    <tr>\n",
              "      <th>17</th>\n",
              "      <td>1/28/2023</td>\n",
              "      <td>Saturday</td>\n",
              "      <td>70.00</td>\n",
              "      <td>Beauty Supply</td>\n",
              "      <td>Hair Products</td>\n",
              "      <td>Cash</td>\n",
              "    </tr>\n",
              "    <tr>\n",
              "      <th>18</th>\n",
              "      <td>1/28/2023</td>\n",
              "      <td>Saturday</td>\n",
              "      <td>4.65</td>\n",
              "      <td>Cinemark</td>\n",
              "      <td>Food</td>\n",
              "      <td>Debit</td>\n",
              "    </tr>\n",
              "    <tr>\n",
              "      <th>19</th>\n",
              "      <td>1/29/2023</td>\n",
              "      <td>Sunday</td>\n",
              "      <td>0.00</td>\n",
              "      <td>NaN</td>\n",
              "      <td>NaN</td>\n",
              "      <td>NaN</td>\n",
              "    </tr>\n",
              "    <tr>\n",
              "      <th>20</th>\n",
              "      <td>1/30/2023</td>\n",
              "      <td>Monday</td>\n",
              "      <td>5.00</td>\n",
              "      <td>Book Store</td>\n",
              "      <td>Beverage</td>\n",
              "      <td>Debit</td>\n",
              "    </tr>\n",
              "    <tr>\n",
              "      <th>21</th>\n",
              "      <td>1/31/2023</td>\n",
              "      <td>Tuesday</td>\n",
              "      <td>5.00</td>\n",
              "      <td>Book Store</td>\n",
              "      <td>Beverage</td>\n",
              "      <td>Debit</td>\n",
              "    </tr>\n",
              "    <tr>\n",
              "      <th>22</th>\n",
              "      <td>1/31/2023</td>\n",
              "      <td>Tuesday</td>\n",
              "      <td>3.65</td>\n",
              "      <td>BART</td>\n",
              "      <td>Transportation</td>\n",
              "      <td>Debit</td>\n",
              "    </tr>\n",
              "  </tbody>\n",
              "</table>\n",
              "</div>\n",
              "      <button class=\"colab-df-convert\" onclick=\"convertToInteractive('df-b0e5d720-c0de-4a39-92a6-8b35a88442ec')\"\n",
              "              title=\"Convert this dataframe to an interactive table.\"\n",
              "              style=\"display:none;\">\n",
              "        \n",
              "  <svg xmlns=\"http://www.w3.org/2000/svg\" height=\"24px\"viewBox=\"0 0 24 24\"\n",
              "       width=\"24px\">\n",
              "    <path d=\"M0 0h24v24H0V0z\" fill=\"none\"/>\n",
              "    <path d=\"M18.56 5.44l.94 2.06.94-2.06 2.06-.94-2.06-.94-.94-2.06-.94 2.06-2.06.94zm-11 1L8.5 8.5l.94-2.06 2.06-.94-2.06-.94L8.5 2.5l-.94 2.06-2.06.94zm10 10l.94 2.06.94-2.06 2.06-.94-2.06-.94-.94-2.06-.94 2.06-2.06.94z\"/><path d=\"M17.41 7.96l-1.37-1.37c-.4-.4-.92-.59-1.43-.59-.52 0-1.04.2-1.43.59L10.3 9.45l-7.72 7.72c-.78.78-.78 2.05 0 2.83L4 21.41c.39.39.9.59 1.41.59.51 0 1.02-.2 1.41-.59l7.78-7.78 2.81-2.81c.8-.78.8-2.07 0-2.86zM5.41 20L4 18.59l7.72-7.72 1.47 1.35L5.41 20z\"/>\n",
              "  </svg>\n",
              "      </button>\n",
              "      \n",
              "  <style>\n",
              "    .colab-df-container {\n",
              "      display:flex;\n",
              "      flex-wrap:wrap;\n",
              "      gap: 12px;\n",
              "    }\n",
              "\n",
              "    .colab-df-convert {\n",
              "      background-color: #E8F0FE;\n",
              "      border: none;\n",
              "      border-radius: 50%;\n",
              "      cursor: pointer;\n",
              "      display: none;\n",
              "      fill: #1967D2;\n",
              "      height: 32px;\n",
              "      padding: 0 0 0 0;\n",
              "      width: 32px;\n",
              "    }\n",
              "\n",
              "    .colab-df-convert:hover {\n",
              "      background-color: #E2EBFA;\n",
              "      box-shadow: 0px 1px 2px rgba(60, 64, 67, 0.3), 0px 1px 3px 1px rgba(60, 64, 67, 0.15);\n",
              "      fill: #174EA6;\n",
              "    }\n",
              "\n",
              "    [theme=dark] .colab-df-convert {\n",
              "      background-color: #3B4455;\n",
              "      fill: #D2E3FC;\n",
              "    }\n",
              "\n",
              "    [theme=dark] .colab-df-convert:hover {\n",
              "      background-color: #434B5C;\n",
              "      box-shadow: 0px 1px 3px 1px rgba(0, 0, 0, 0.15);\n",
              "      filter: drop-shadow(0px 1px 2px rgba(0, 0, 0, 0.3));\n",
              "      fill: #FFFFFF;\n",
              "    }\n",
              "  </style>\n",
              "\n",
              "      <script>\n",
              "        const buttonEl =\n",
              "          document.querySelector('#df-b0e5d720-c0de-4a39-92a6-8b35a88442ec button.colab-df-convert');\n",
              "        buttonEl.style.display =\n",
              "          google.colab.kernel.accessAllowed ? 'block' : 'none';\n",
              "\n",
              "        async function convertToInteractive(key) {\n",
              "          const element = document.querySelector('#df-b0e5d720-c0de-4a39-92a6-8b35a88442ec');\n",
              "          const dataTable =\n",
              "            await google.colab.kernel.invokeFunction('convertToInteractive',\n",
              "                                                     [key], {});\n",
              "          if (!dataTable) return;\n",
              "\n",
              "          const docLinkHtml = 'Like what you see? Visit the ' +\n",
              "            '<a target=\"_blank\" href=https://colab.research.google.com/notebooks/data_table.ipynb>data table notebook</a>'\n",
              "            + ' to learn more about interactive tables.';\n",
              "          element.innerHTML = '';\n",
              "          dataTable['output_type'] = 'display_data';\n",
              "          await google.colab.output.renderOutput(dataTable, element);\n",
              "          const docLink = document.createElement('div');\n",
              "          docLink.innerHTML = docLinkHtml;\n",
              "          element.appendChild(docLink);\n",
              "        }\n",
              "      </script>\n",
              "    </div>\n",
              "  </div>\n",
              "  "
            ]
          },
          "metadata": {},
          "execution_count": 3
        }
      ]
    },
    {
      "cell_type": "code",
      "source": [
        "df['Day of the Week'].value_counts(normalize= True).round(2)"
      ],
      "metadata": {
        "colab": {
          "base_uri": "https://localhost:8080/"
        },
        "id": "zbHqsglPGuXp",
        "outputId": "f81a15a0-9a57-49f2-a67c-12bded58bc11"
      },
      "execution_count": null,
      "outputs": [
        {
          "output_type": "execute_result",
          "data": {
            "text/plain": [
              "Saturday     0.22\n",
              "Friday       0.17\n",
              "Sunday       0.17\n",
              "Monday       0.13\n",
              "Tuesday      0.13\n",
              "Wednesday    0.09\n",
              "Thursday     0.09\n",
              "Name: Day of the Week, dtype: float64"
            ]
          },
          "metadata": {},
          "execution_count": 10
        }
      ]
    },
    {
      "cell_type": "code",
      "source": [
        "df['Day of the Week'].value_counts().plot(kind='pie')"
      ],
      "metadata": {
        "colab": {
          "base_uri": "https://localhost:8080/",
          "height": 265
        },
        "id": "ViCTDyz8Xa_5",
        "outputId": "9c2dde4e-58fd-4fd0-d726-c5ae44bfea79"
      },
      "execution_count": null,
      "outputs": [
        {
          "output_type": "execute_result",
          "data": {
            "text/plain": [
              "<matplotlib.axes._subplots.AxesSubplot at 0x7fb3062131f0>"
            ]
          },
          "metadata": {},
          "execution_count": 6
        },
        {
          "output_type": "display_data",
          "data": {
            "text/plain": [
              "<Figure size 432x288 with 1 Axes>"
            ],
            "image/png": "[encoded data removed]"
          },
          "metadata": {}
        }
      ]
    },
    {
      "cell_type": "code",
      "source": [
        "df['Day of the Week'].value_counts().plot(kind='bar')"
      ],
      "metadata": {
        "colab": {
          "base_uri": "https://localhost:8080/",
          "height": 330
        },
        "id": "g_41uzi2XhTg",
        "outputId": "0bcf2aa1-21e9-437a-b5a9-88c13df67120"
      },
      "execution_count": null,
      "outputs": [
        {
          "output_type": "execute_result",
          "data": {
            "text/plain": [
              "<matplotlib.axes._subplots.AxesSubplot at 0x7fb306150760>"
            ]
          },
          "metadata": {},
          "execution_count": 7
        },
        {
          "output_type": "display_data",
          "data": {
            "text/plain": [
              "<Figure size 432x288 with 1 Axes>"
            ],
            "image/png": "[encoded data removed]"
          },
          "metadata": {
            "needs_background": "light"
          }
        }
      ]
    },
    {
      "cell_type": "code",
      "source": [
        "df['Day of the Week'].value_counts().plot(kind='hist')"
      ],
      "metadata": {
        "colab": {
          "base_uri": "https://localhost:8080/",
          "height": 282
        },
        "id": "ytEnSyr5Xr0W",
        "outputId": "4260d3aa-1acb-41cf-dfe0-b0e4f82cfd03"
      },
      "execution_count": null,
      "outputs": [
        {
          "output_type": "execute_result",
          "data": {
            "text/plain": [
              "<matplotlib.axes._subplots.AxesSubplot at 0x7fb305c69220>"
            ]
          },
          "metadata": {},
          "execution_count": 8
        },
        {
          "output_type": "display_data",
          "data": {
            "text/plain": [
              "<Figure size 432x288 with 1 Axes>"
            ],
            "image/png": "[encoded data removed]"
          },
          "metadata": {
            "needs_background": "light"
          }
        }
      ]
    },
    {
      "cell_type": "code",
      "source": [
        "df['Category'].value_counts(normalize= True).round(2)"
      ],
      "metadata": {
        "colab": {
          "base_uri": "https://localhost:8080/"
        },
        "id": "ilCVUtPcIww-",
        "outputId": "c4eb6607-1cc2-48f6-abeb-da0ba3a5428a"
      },
      "execution_count": null,
      "outputs": [
        {
          "output_type": "execute_result",
          "data": {
            "text/plain": [
              "Food              0.64\n",
              "Beverage          0.18\n",
              "Hair Products     0.09\n",
              "Transportation    0.09\n",
              "Name: Category, dtype: float64"
            ]
          },
          "metadata": {},
          "execution_count": 11
        }
      ]
    },
    {
      "cell_type": "code",
      "source": [
        "df['Amount'].value_counts(normalize = True).plot(kind='bar')"
      ],
      "metadata": {
        "colab": {
          "base_uri": "https://localhost:8080/",
          "height": 307
        },
        "id": "Pu6vJTXILW3a",
        "outputId": "2d19c171-c524-4f9b-ee1b-3afeac45d03e"
      },
      "execution_count": null,
      "outputs": [
        {
          "output_type": "execute_result",
          "data": {
            "text/plain": [
              "<matplotlib.axes._subplots.AxesSubplot at 0x7fb305c09040>"
            ]
          },
          "metadata": {},
          "execution_count": 10
        },
        {
          "output_type": "display_data",
          "data": {
            "text/plain": [
              "<Figure size 432x288 with 1 Axes>"
            ],
            "image/png": "[encoded data removed]"
          },
          "metadata": {
            "needs_background": "light"
          }
        }
      ]
    },
    {
      "cell_type": "code",
      "source": [
        "df['Amount'].mean()"
      ],
      "metadata": {
        "colab": {
          "base_uri": "https://localhost:8080/"
        },
        "id": "03jauqieODvD",
        "outputId": "97fbc95d-27c6-45af-d62e-66668f5581d9"
      },
      "execution_count": null,
      "outputs": [
        {
          "output_type": "execute_result",
          "data": {
            "text/plain": [
              "17.50565217391304"
            ]
          },
          "metadata": {},
          "execution_count": 11
        }
      ]
    },
    {
      "cell_type": "code",
      "source": [
        "df['Amount'].value_counts(normalize= True).round(2)"
      ],
      "metadata": {
        "id": "jHn2A1HjYyVU",
        "colab": {
          "base_uri": "https://localhost:8080/"
        },
        "outputId": "cf37e500-da22-4ab2-cf23-7466310f2762"
      },
      "execution_count": null,
      "outputs": [
        {
          "output_type": "execute_result",
          "data": {
            "text/plain": [
              "5.00      0.17\n",
              "8.25      0.09\n",
              "15.00     0.04\n",
              "3.00      0.04\n",
              "0.00      0.04\n",
              "4.65      0.04\n",
              "70.00     0.04\n",
              "20.38     0.04\n",
              "11.98     0.04\n",
              "10.00     0.04\n",
              "6.93      0.04\n",
              "36.49     0.04\n",
              "26.07     0.04\n",
              "8.28      0.04\n",
              "23.88     0.04\n",
              "7.76      0.04\n",
              "11.40     0.04\n",
              "106.66    0.04\n",
              "3.65      0.04\n",
              "Name: Amount, dtype: float64"
            ]
          },
          "metadata": {},
          "execution_count": 12
        }
      ]
    },
    {
      "cell_type": "code",
      "source": [
        "What days do you think you spend the most money on?\n",
        "df.groupby('Day of the Week')['Amount'].mean().round(2)"
      ],
      "metadata": {
        "colab": {
          "base_uri": "https://localhost:8080/"
        },
        "id": "jdiKL1wmPcfW",
        "outputId": "9e0e93b2-5da0-445f-febb-a8b35344a954"
      },
      "execution_count": null,
      "outputs": [
        {
          "output_type": "stream",
          "name": "stdout",
          "text": [
            "Object `on` not found.\n"
          ]
        },
        {
          "output_type": "execute_result",
          "data": {
            "text/plain": [
              "Day of the Week\n",
              "Friday       14.51\n",
              "Monday        6.08\n",
              "Saturday     42.62\n",
              "Sunday        9.98\n",
              "Thursday      6.50\n",
              "Tuesday       5.63\n",
              "Wednesday    21.71\n",
              "Name: Amount, dtype: float64"
            ]
          },
          "metadata": {},
          "execution_count": 12
        }
      ]
    },
    {
      "cell_type": "code",
      "source": [
        "df.groupby('Day of the Week')['Amount'].mean().plot(kind='pie')"
      ],
      "metadata": {
        "colab": {
          "base_uri": "https://localhost:8080/",
          "height": 265
        },
        "id": "8p49GX1zZlZ9",
        "outputId": "979e2983-6a3e-41ab-ecff-56582ada20c2"
      },
      "execution_count": null,
      "outputs": [
        {
          "output_type": "execute_result",
          "data": {
            "text/plain": [
              "<matplotlib.axes._subplots.AxesSubplot at 0x7fb305b6aac0>"
            ]
          },
          "metadata": {},
          "execution_count": 13
        },
        {
          "output_type": "display_data",
          "data": {
            "text/plain": [
              "<Figure size 432x288 with 1 Axes>"
            ],
            "image/png": "[encoded data removed]"
          },
          "metadata": {}
        }
      ]
    },
    {
      "cell_type": "code",
      "source": [
        "df.groupby('Day of the Week')['Amount'].mean().hist()\n"
      ],
      "metadata": {
        "colab": {
          "base_uri": "https://localhost:8080/",
          "height": 282
        },
        "id": "p5Wc629eaQ0J",
        "outputId": "9ae19cf5-16fd-4b7f-e93e-80911fbca0e4"
      },
      "execution_count": null,
      "outputs": [
        {
          "output_type": "execute_result",
          "data": {
            "text/plain": [
              "<matplotlib.axes._subplots.AxesSubplot at 0x7fb305b84400>"
            ]
          },
          "metadata": {},
          "execution_count": 14
        },
        {
          "output_type": "display_data",
          "data": {
            "text/plain": [
              "<Figure size 432x288 with 1 Axes>"
            ],
            "image/png": "[encoded data removed]"
          },
          "metadata": {
            "needs_background": "light"
          }
        }
      ]
    },
    {
      "cell_type": "code",
      "source": [
        "sns.boxplot(x='Day of the Week',y='Amount',data=df)"
      ],
      "metadata": {
        "colab": {
          "base_uri": "https://localhost:8080/",
          "height": 296
        },
        "id": "7vqvYr8Vc01t",
        "outputId": "0987717f-1d7d-4546-d88a-790f726e2dcb"
      },
      "execution_count": null,
      "outputs": [
        {
          "output_type": "execute_result",
          "data": {
            "text/plain": [
              "<matplotlib.axes._subplots.AxesSubplot at 0x7fb305a7e8e0>"
            ]
          },
          "metadata": {},
          "execution_count": 15
        },
        {
          "output_type": "display_data",
          "data": {
            "text/plain": [
              "<Figure size 432x288 with 1 Axes>"
            ],
            "image/png": "[encoded data removed]"
          },
          "metadata": {
            "needs_background": "light"
          }
        }
      ]
    },
    {
      "cell_type": "code",
      "source": [
        "df.groupby('Day of the Week')['Amount'].mean().plot(kind='bar')"
      ],
      "metadata": {
        "colab": {
          "base_uri": "https://localhost:8080/",
          "height": 344
        },
        "id": "q7WKHqBkf5MO",
        "outputId": "c2b85fce-b1e6-47da-db5f-32f7b7ebef81"
      },
      "execution_count": null,
      "outputs": [
        {
          "output_type": "execute_result",
          "data": {
            "text/plain": [
              "<matplotlib.axes._subplots.AxesSubplot at 0x7fb305962940>"
            ]
          },
          "metadata": {},
          "execution_count": 16
        },
        {
          "output_type": "display_data",
          "data": {
            "text/plain": [
              "<Figure size 432x288 with 1 Axes>"
            ],
            "image/png": "[encoded data removed]"
          },
          "metadata": {
            "needs_background": "light"
          }
        }
      ]
    },
    {
      "cell_type": "code",
      "source": [
        "df.hist(column='Amount')"
      ],
      "metadata": {
        "colab": {
          "base_uri": "https://localhost:8080/",
          "height": 316
        },
        "id": "WbrYWUyOkHB0",
        "outputId": "00a1a06c-48e4-4416-9522-aa59632a7d7f"
      },
      "execution_count": null,
      "outputs": [
        {
          "output_type": "execute_result",
          "data": {
            "text/plain": [
              "array([[<matplotlib.axes._subplots.AxesSubplot object at 0x7f45184a76a0>]],\n",
              "      dtype=object)"
            ]
          },
          "metadata": {},
          "execution_count": 31
        },
        {
          "output_type": "display_data",
          "data": {
            "text/plain": [
              "<Figure size 432x288 with 1 Axes>"
            ],
            "image/png": "[encoded data removed]"
          },
          "metadata": {
            "needs_background": "light"
          }
        }
      ]
    },
    {
      "cell_type": "code",
      "source": [
        "What are the top 3 categories you use your money in? (Travel, food, bills, etc..)"
      ],
      "metadata": {
        "colab": {
          "base_uri": "https://localhost:8080/",
          "height": 131
        },
        "id": "OrssY3HPaTyf",
        "outputId": "a300b756-9337-4d08-a212-dedae38eee74"
      },
      "execution_count": null,
      "outputs": [
        {
          "output_type": "error",
          "ename": "SyntaxError",
          "evalue": "ignored",
          "traceback": [
            "\u001b[0;36m  File \u001b[0;32m\"<ipython-input-52-f564f7939111>\"\u001b[0;36m, line \u001b[0;32m1\u001b[0m\n\u001b[0;31m    What are the top 3 categories you use your money in? (Travel, food, bills, etc..)\u001b[0m\n\u001b[0m         ^\u001b[0m\n\u001b[0;31mSyntaxError\u001b[0m\u001b[0;31m:\u001b[0m invalid syntax\n"
          ]
        }
      ]
    },
    {
      "cell_type": "code",
      "source": [
        "df['Category']"
      ],
      "metadata": {
        "colab": {
          "base_uri": "https://localhost:8080/"
        },
        "id": "T3X1jkFnQFYf",
        "outputId": "acd8a1a3-74de-49ab-da53-abed20c20050"
      },
      "execution_count": null,
      "outputs": [
        {
          "output_type": "execute_result",
          "data": {
            "text/plain": [
              "0               Food\n",
              "1               Food\n",
              "2               Food\n",
              "3           Beverage\n",
              "4               Food\n",
              "5      Hair Products\n",
              "6               Food\n",
              "7               Food\n",
              "8     Transportation\n",
              "9               Food\n",
              "10          Beverage\n",
              "11              Food\n",
              "12              Food\n",
              "13              Food\n",
              "14              Food\n",
              "15              Food\n",
              "16              Food\n",
              "17     Hair Products\n",
              "18              Food\n",
              "19               NaN\n",
              "20          Beverage\n",
              "21          Beverage\n",
              "22    Transportation\n",
              "Name: Category, dtype: object"
            ]
          },
          "metadata": {},
          "execution_count": 52
        }
      ]
    },
    {
      "cell_type": "code",
      "source": [
        "df['Category'].hist()"
      ],
      "metadata": {
        "colab": {
          "base_uri": "https://localhost:8080/",
          "height": 282
        },
        "id": "muvXzjw0dSXL",
        "outputId": "5173b25c-46d7-4636-953f-4af2ed94aeb6"
      },
      "execution_count": null,
      "outputs": [
        {
          "output_type": "execute_result",
          "data": {
            "text/plain": [
              "<matplotlib.axes._subplots.AxesSubplot at 0x7fb302bec940>"
            ]
          },
          "metadata": {},
          "execution_count": 54
        },
        {
          "output_type": "display_data",
          "data": {
            "text/plain": [
              "<Figure size 432x288 with 1 Axes>"
            ],
            "image/png": "[encoded data removed]"
          },
          "metadata": {
            "needs_background": "light"
          }
        }
      ]
    },
    {
      "cell_type": "code",
      "source": [
        "df['Category'].value_counts().plot(kind='bar')"
      ],
      "metadata": {
        "colab": {
          "base_uri": "https://localhost:8080/",
          "height": 344
        },
        "id": "YQhqi1KeeFhC",
        "outputId": "c5f8fa9b-59c3-4288-ba04-67ebbc07e3eb"
      },
      "execution_count": null,
      "outputs": [
        {
          "output_type": "execute_result",
          "data": {
            "text/plain": [
              "<matplotlib.axes._subplots.AxesSubplot at 0x7fb3027bda60>"
            ]
          },
          "metadata": {},
          "execution_count": 56
        },
        {
          "output_type": "display_data",
          "data": {
            "text/plain": [
              "<Figure size 432x288 with 1 Axes>"
            ],
            "image/png": "[encoded data removed]"
          },
          "metadata": {
            "needs_background": "light"
          }
        }
      ]
    },
    {
      "cell_type": "code",
      "source": [
        "df['Category'].value_counts().plot(kind='pie')"
      ],
      "metadata": {
        "colab": {
          "base_uri": "https://localhost:8080/",
          "height": 265
        },
        "id": "1400-Z0SelEK",
        "outputId": "ee2eaa41-fd53-4908-c7b5-5e5e4d3607e5"
      },
      "execution_count": null,
      "outputs": [
        {
          "output_type": "execute_result",
          "data": {
            "text/plain": [
              "<matplotlib.axes._subplots.AxesSubplot at 0x7fb302750370>"
            ]
          },
          "metadata": {},
          "execution_count": 57
        },
        {
          "output_type": "display_data",
          "data": {
            "text/plain": [
              "<Figure size 432x288 with 1 Axes>"
            ],
            "image/png": "[encoded data removed]"
          },
          "metadata": {}
        }
      ]
    },
    {
      "cell_type": "code",
      "source": [
        "What method of payment do you mainly use? (Debit, credit, or cash) "
      ],
      "metadata": {
        "id": "8a-hdcykas8R"
      },
      "execution_count": null,
      "outputs": []
    },
    {
      "cell_type": "code",
      "source": [
        "df['Method of Payment']"
      ],
      "metadata": {
        "colab": {
          "base_uri": "https://localhost:8080/"
        },
        "id": "LFXhJ4CVSCEg",
        "outputId": "70c21e5b-1bc2-463a-f9d1-3e0398a009d3"
      },
      "execution_count": null,
      "outputs": [
        {
          "output_type": "execute_result",
          "data": {
            "text/plain": [
              "0     Debit\n",
              "1     Debit\n",
              "2     Debit\n",
              "3     Debit\n",
              "4     Debit\n",
              "5     Debit\n",
              "6     Debit\n",
              "7     Debit\n",
              "8     Debit\n",
              "9     Debit\n",
              "10    Debit\n",
              "11    Debit\n",
              "12    Debit\n",
              "13    Debit\n",
              "14    Debit\n",
              "15    Debit\n",
              "16    Debit\n",
              "17     Cash\n",
              "18    Debit\n",
              "19      NaN\n",
              "20    Debit\n",
              "21    Debit\n",
              "22    Debit\n",
              "Name: Method of Payment, dtype: object"
            ]
          },
          "metadata": {},
          "execution_count": 21
        }
      ]
    },
    {
      "cell_type": "code",
      "source": [
        "df['Amount'].mean()"
      ],
      "metadata": {
        "colab": {
          "base_uri": "https://localhost:8080/"
        },
        "id": "I1xQ_irGSU2C",
        "outputId": "63b5304b-0de5-4eb9-dcc1-34980656c644"
      },
      "execution_count": null,
      "outputs": [
        {
          "output_type": "execute_result",
          "data": {
            "text/plain": [
              "17.50565217391304"
            ]
          },
          "metadata": {},
          "execution_count": 22
        }
      ]
    },
    {
      "cell_type": "code",
      "source": [
        "df['Method of Payment'].value_counts().plot(kind='pie')"
      ],
      "metadata": {
        "colab": {
          "base_uri": "https://localhost:8080/",
          "height": 265
        },
        "id": "3w_HRYqTgrC7",
        "outputId": "cfe41995-3bc5-47fa-8c3f-507e2fac2df3"
      },
      "execution_count": null,
      "outputs": [
        {
          "output_type": "execute_result",
          "data": {
            "text/plain": [
              "<matplotlib.axes._subplots.AxesSubplot at 0x7fb3057e3d00>"
            ]
          },
          "metadata": {},
          "execution_count": 23
        },
        {
          "output_type": "display_data",
          "data": {
            "text/plain": [
              "<Figure size 432x288 with 1 Axes>"
            ],
            "image/png": "[encoded data removed]"
          },
          "metadata": {}
        }
      ]
    },
    {
      "cell_type": "code",
      "source": [
        "df['Method of Payment'].value_counts().plot(kind='bar')"
      ],
      "metadata": {
        "colab": {
          "base_uri": "https://localhost:8080/",
          "height": 299
        },
        "id": "fq6GHn-I5-NF",
        "outputId": "b66cdd87-46d3-4ddc-eaef-3755f2e24eb6"
      },
      "execution_count": null,
      "outputs": [
        {
          "output_type": "execute_result",
          "data": {
            "text/plain": [
              "<matplotlib.axes._subplots.AxesSubplot at 0x7fb3057a2940>"
            ]
          },
          "metadata": {},
          "execution_count": 24
        },
        {
          "output_type": "display_data",
          "data": {
            "text/plain": [
              "<Figure size 432x288 with 1 Axes>"
            ],
            "image/png": "[encoded data removed]"
          },
          "metadata": {
            "needs_background": "light"
          }
        }
      ]
    },
    {
      "cell_type": "code",
      "source": [
        "df['Method of Payment'].hist()"
      ],
      "metadata": {
        "colab": {
          "base_uri": "https://localhost:8080/",
          "height": 282
        },
        "id": "J6YG0np_7Ie1",
        "outputId": "f1fbf453-5708-4df4-c8ca-4e8851bec034"
      },
      "execution_count": null,
      "outputs": [
        {
          "output_type": "execute_result",
          "data": {
            "text/plain": [
              "<matplotlib.axes._subplots.AxesSubplot at 0x7fb30577ab80>"
            ]
          },
          "metadata": {},
          "execution_count": 25
        },
        {
          "output_type": "display_data",
          "data": {
            "text/plain": [
              "<Figure size 432x288 with 1 Axes>"
            ],
            "image/png": "[encoded data removed]"
          },
          "metadata": {
            "needs_background": "light"
          }
        }
      ]
    },
    {
      "cell_type": "code",
      "source": [
        "What is the average amount of money used per transaction?"
      ],
      "metadata": {
        "colab": {
          "base_uri": "https://localhost:8080/"
        },
        "id": "zPvWWNJA66yF",
        "outputId": "31eb9034-4872-4df0-c43e-9a618acf4dd0"
      },
      "execution_count": null,
      "outputs": [
        {
          "output_type": "stream",
          "name": "stdout",
          "text": [
            "Object `transaction` not found.\n"
          ]
        }
      ]
    },
    {
      "cell_type": "code",
      "source": [
        "df['Amount'].mean().round(2)"
      ],
      "metadata": {
        "colab": {
          "base_uri": "https://localhost:8080/"
        },
        "id": "BLW99_-q7qBY",
        "outputId": "5085e3e2-9829-40da-89f8-a85a54b9d3c8"
      },
      "execution_count": null,
      "outputs": [
        {
          "output_type": "execute_result",
          "data": {
            "text/plain": [
              "17.51"
            ]
          },
          "metadata": {},
          "execution_count": 26
        }
      ]
    },
    {
      "cell_type": "code",
      "source": [
        "sns.boxplot(x='Amount',y='Date',data=df)"
      ],
      "metadata": {
        "colab": {
          "base_uri": "https://localhost:8080/",
          "height": 296
        },
        "id": "TgXUxF4YudQp",
        "outputId": "ff1a3a2e-be73-4f10-9f0e-850395842945"
      },
      "execution_count": null,
      "outputs": [
        {
          "output_type": "execute_result",
          "data": {
            "text/plain": [
              "<matplotlib.axes._subplots.AxesSubplot at 0x7f4517c222e0>"
            ]
          },
          "metadata": {},
          "execution_count": 37
        },
        {
          "output_type": "display_data",
          "data": {
            "text/plain": [
              "<Figure size 432x288 with 1 Axes>"
            ],
            "image/png": "[encoded data removed]"
          },
          "metadata": {
            "needs_background": "light"
          }
        }
      ]
    },
    {
      "cell_type": "code",
      "source": [
        "df['Amount'].value_counts().plot(kind='pie')"
      ],
      "metadata": {
        "colab": {
          "base_uri": "https://localhost:8080/",
          "height": 265
        },
        "id": "vzYEjk6G79fO",
        "outputId": "df595d39-d3b2-4cc6-9214-fca6737b93a9"
      },
      "execution_count": null,
      "outputs": [
        {
          "output_type": "execute_result",
          "data": {
            "text/plain": [
              "<matplotlib.axes._subplots.AxesSubplot at 0x7fb302b4d070>"
            ]
          },
          "metadata": {},
          "execution_count": 42
        },
        {
          "output_type": "display_data",
          "data": {
            "text/plain": [
              "<Figure size 432x288 with 1 Axes>"
            ],
            "image/png": "[encoded data removed]"
          },
          "metadata": {}
        }
      ]
    },
    {
      "cell_type": "code",
      "source": [
        "df['Amount'].value_counts().plot(kind='bar')"
      ],
      "metadata": {
        "colab": {
          "base_uri": "https://localhost:8080/",
          "height": 307
        },
        "id": "aqVc_fOTLP4j",
        "outputId": "ac82e2ce-104e-4736-c4fe-99a9c58ae539"
      },
      "execution_count": null,
      "outputs": [
        {
          "output_type": "execute_result",
          "data": {
            "text/plain": [
              "<matplotlib.axes._subplots.AxesSubplot at 0x7fb30297cbb0>"
            ]
          },
          "metadata": {},
          "execution_count": 46
        },
        {
          "output_type": "display_data",
          "data": {
            "text/plain": [
              "<Figure size 432x288 with 1 Axes>"
            ],
            "image/png": "[encoded data removed]"
          },
          "metadata": {
            "needs_background": "light"
          }
        }
      ]
    },
    {
      "cell_type": "code",
      "source": [
        "sns.boxplot(x='Amount',y='Day of the Week',data=df)"
      ],
      "metadata": {
        "colab": {
          "base_uri": "https://localhost:8080/",
          "height": 296
        },
        "id": "6B-Fu173fg4e",
        "outputId": "a90fbb7a-81d5-4485-f54a-4f4159e2cefc"
      },
      "execution_count": null,
      "outputs": [
        {
          "output_type": "execute_result",
          "data": {
            "text/plain": [
              "<matplotlib.axes._subplots.AxesSubplot at 0x7f45187a06a0>"
            ]
          },
          "metadata": {},
          "execution_count": 13
        },
        {
          "output_type": "display_data",
          "data": {
            "text/plain": [
              "<Figure size 432x288 with 1 Axes>"
            ],
            "image/png": "[encoded data removed]"
          },
          "metadata": {
            "needs_background": "light"
          }
        }
      ]
    },
    {
      "cell_type": "code",
      "source": [
        "df['Amount'].hist()"
      ],
      "metadata": {
        "colab": {
          "base_uri": "https://localhost:8080/",
          "height": 282
        },
        "id": "Faj26MqDNMdY",
        "outputId": "a1e8bc81-113a-4e4e-c1eb-31a4a3b51ead"
      },
      "execution_count": null,
      "outputs": [
        {
          "output_type": "execute_result",
          "data": {
            "text/plain": [
              "<matplotlib.axes._subplots.AxesSubplot at 0x7fb3029bf130>"
            ]
          },
          "metadata": {},
          "execution_count": 47
        },
        {
          "output_type": "display_data",
          "data": {
            "text/plain": [
              "<Figure size 432x288 with 1 Axes>"
            ],
            "image/png": "[encoded data removed]"
          },
          "metadata": {
            "needs_background": "light"
          }
        }
      ]
    },
    {
      "cell_type": "code",
      "source": [
        "What is the average amount of money used in a  transaction per money category?"
      ],
      "metadata": {
        "id": "4C4fmOkqNkF5"
      },
      "execution_count": null,
      "outputs": []
    },
    {
      "cell_type": "code",
      "source": [
        "df.groupby('Category')['Amount'].mean().value_counts(normalize= True).round(2)"
      ],
      "metadata": {
        "colab": {
          "base_uri": "https://localhost:8080/"
        },
        "id": "KeMcqO33gtPU",
        "outputId": "f1263baf-a913-4f0d-99d7-6b0c12ac5eb6"
      },
      "execution_count": null,
      "outputs": [
        {
          "output_type": "execute_result",
          "data": {
            "text/plain": [
              "7.082500     0.25\n",
              "19.412143    0.25\n",
              "46.940000    0.25\n",
              "4.325000     0.25\n",
              "Name: Amount, dtype: float64"
            ]
          },
          "metadata": {},
          "execution_count": 18
        }
      ]
    },
    {
      "cell_type": "code",
      "source": [
        "df.groupby('Amount')['Category'].value_counts(normalize= True).round(2)"
      ],
      "metadata": {
        "colab": {
          "base_uri": "https://localhost:8080/"
        },
        "id": "4Y0LWp8Bg43_",
        "outputId": "9009da9d-b98d-4bbc-c7db-185654dd2e38"
      },
      "execution_count": null,
      "outputs": [
        {
          "output_type": "execute_result",
          "data": {
            "text/plain": [
              "Amount  Category      \n",
              "3.00    Food              1.00\n",
              "3.65    Transportation    1.00\n",
              "4.65    Food              1.00\n",
              "5.00    Beverage          0.50\n",
              "        Food              0.25\n",
              "        Transportation    0.25\n",
              "6.93    Beverage          1.00\n",
              "7.76    Food              1.00\n",
              "8.25    Food              1.00\n",
              "8.28    Food              1.00\n",
              "10.00   Food              1.00\n",
              "11.40   Beverage          1.00\n",
              "11.98   Food              1.00\n",
              "15.00   Food              1.00\n",
              "20.38   Food              1.00\n",
              "23.88   Hair Products     1.00\n",
              "26.07   Food              1.00\n",
              "36.49   Food              1.00\n",
              "70.00   Hair Products     1.00\n",
              "106.66  Food              1.00\n",
              "Name: Category, dtype: float64"
            ]
          },
          "metadata": {},
          "execution_count": 21
        }
      ]
    },
    {
      "cell_type": "code",
      "source": [
        "df.groupby('Category')['Amount'].mean().round(2)"
      ],
      "metadata": {
        "id": "wynSlx7VO8HE",
        "colab": {
          "base_uri": "https://localhost:8080/"
        },
        "outputId": "fb229f2b-fcc7-46cc-cd6e-78f2d5859e90"
      },
      "execution_count": null,
      "outputs": [
        {
          "output_type": "execute_result",
          "data": {
            "text/plain": [
              "Category\n",
              "Beverage           7.08\n",
              "Food              19.41\n",
              "Hair Products     46.94\n",
              "Transportation     4.32\n",
              "Name: Amount, dtype: float64"
            ]
          },
          "metadata": {},
          "execution_count": 49
        }
      ]
    },
    {
      "cell_type": "code",
      "source": [
        "df.groupby('Category')['Amount'].mean().plot(kind='pie')"
      ],
      "metadata": {
        "id": "RYYwRMf_OrEr",
        "colab": {
          "base_uri": "https://localhost:8080/",
          "height": 265
        },
        "outputId": "8f4724c8-5be6-4671-d3f9-8c987fde9b27"
      },
      "execution_count": null,
      "outputs": [
        {
          "output_type": "execute_result",
          "data": {
            "text/plain": [
              "<matplotlib.axes._subplots.AxesSubplot at 0x7fb30297c6d0>"
            ]
          },
          "metadata": {},
          "execution_count": 50
        },
        {
          "output_type": "display_data",
          "data": {
            "text/plain": [
              "<Figure size 432x288 with 1 Axes>"
            ],
            "image/png": "[encoded data removed]"
          },
          "metadata": {}
        }
      ]
    },
    {
      "cell_type": "code",
      "source": [
        "df.groupby('Category')['Amount'].mean().plot(kind='bar')"
      ],
      "metadata": {
        "colab": {
          "base_uri": "https://localhost:8080/",
          "height": 358
        },
        "id": "Jn3xcsCsSfIC",
        "outputId": "e635c01c-f037-4aa2-8359-b9f71e02138f"
      },
      "execution_count": null,
      "outputs": [
        {
          "output_type": "execute_result",
          "data": {
            "text/plain": [
              "<matplotlib.axes._subplots.AxesSubplot at 0x7fb302716400>"
            ]
          },
          "metadata": {},
          "execution_count": 58
        },
        {
          "output_type": "display_data",
          "data": {
            "text/plain": [
              "<Figure size 432x288 with 1 Axes>"
            ],
            "image/png": "[encoded data removed]"
          },
          "metadata": {
            "needs_background": "light"
          }
        }
      ]
    },
    {
      "cell_type": "code",
      "source": [
        "df.groupby('Category')['Amount'].hist()"
      ],
      "metadata": {
        "colab": {
          "base_uri": "https://localhost:8080/",
          "height": 369
        },
        "id": "Z6-fLbE2ThTQ",
        "outputId": "c969d84d-c47f-4d19-c5c8-4a2752d32208"
      },
      "execution_count": null,
      "outputs": [
        {
          "output_type": "execute_result",
          "data": {
            "text/plain": [
              "Category\n",
              "Beverage          AxesSubplot(0.125,0.125;0.775x0.755)\n",
              "Food              AxesSubplot(0.125,0.125;0.775x0.755)\n",
              "Hair Products     AxesSubplot(0.125,0.125;0.775x0.755)\n",
              "Transportation    AxesSubplot(0.125,0.125;0.775x0.755)\n",
              "Name: Amount, dtype: object"
            ]
          },
          "metadata": {},
          "execution_count": 59
        },
        {
          "output_type": "display_data",
          "data": {
            "text/plain": [
              "<Figure size 432x288 with 1 Axes>"
            ],
            "image/png": "[encoded data removed]"
          },
          "metadata": {
            "needs_background": "light"
          }
        }
      ]
    },
    {
      "cell_type": "code",
      "source": [
        "What is the average amount of money used in transaction per method of payment?"
      ],
      "metadata": {
        "id": "PbdwSPPLU7fj"
      },
      "execution_count": null,
      "outputs": []
    },
    {
      "cell_type": "code",
      "source": [
        "df.groupby('Method of Payment')['Amount'].mean().round(2).value_counts(normalize= True)"
      ],
      "metadata": {
        "colab": {
          "base_uri": "https://localhost:8080/"
        },
        "id": "g1D_kbJ-h5Sn",
        "outputId": "9f438dcf-efdc-48cb-ad63-7a2cac685e01"
      },
      "execution_count": null,
      "outputs": [
        {
          "output_type": "execute_result",
          "data": {
            "text/plain": [
              "70.00    0.5\n",
              "15.84    0.5\n",
              "Name: Amount, dtype: float64"
            ]
          },
          "metadata": {},
          "execution_count": 23
        }
      ]
    },
    {
      "cell_type": "code",
      "source": [
        "df.groupby('Method of Payment')['Amount'].mean().round(2)"
      ],
      "metadata": {
        "colab": {
          "base_uri": "https://localhost:8080/"
        },
        "id": "XTCWY4uFVBFI",
        "outputId": "8ba4a0aa-afe6-4fe8-8b8b-d448e29d54fd"
      },
      "execution_count": null,
      "outputs": [
        {
          "output_type": "execute_result",
          "data": {
            "text/plain": [
              "Method of Payment\n",
              "Cash     70.00\n",
              "Debit    15.84\n",
              "Name: Amount, dtype: float64"
            ]
          },
          "metadata": {},
          "execution_count": 65
        }
      ]
    },
    {
      "cell_type": "code",
      "source": [
        "df.groupby('Method of Payment')['Amount'].mean().round(2).plot(kind='pie')"
      ],
      "metadata": {
        "colab": {
          "base_uri": "https://localhost:8080/",
          "height": 265
        },
        "id": "aMzm-DIxWxnz",
        "outputId": "5acdde37-c042-460d-a4ad-657c543a816f"
      },
      "execution_count": null,
      "outputs": [
        {
          "output_type": "execute_result",
          "data": {
            "text/plain": [
              "<matplotlib.axes._subplots.AxesSubplot at 0x7fb3023cbf40>"
            ]
          },
          "metadata": {},
          "execution_count": 71
        },
        {
          "output_type": "display_data",
          "data": {
            "text/plain": [
              "<Figure size 432x288 with 1 Axes>"
            ],
            "image/png": "[encoded data removed]"
          },
          "metadata": {}
        }
      ]
    },
    {
      "cell_type": "code",
      "source": [
        "df.groupby('Method of Payment')['Amount'].mean().round(2).plot(kind='bar')"
      ],
      "metadata": {
        "colab": {
          "base_uri": "https://localhost:8080/",
          "height": 313
        },
        "id": "Yy3MTmmvXmBa",
        "outputId": "be209979-8f71-41fa-9869-ea1c009112ba"
      },
      "execution_count": null,
      "outputs": [
        {
          "output_type": "execute_result",
          "data": {
            "text/plain": [
              "<matplotlib.axes._subplots.AxesSubplot at 0x7fb30238f880>"
            ]
          },
          "metadata": {},
          "execution_count": 72
        },
        {
          "output_type": "display_data",
          "data": {
            "text/plain": [
              "<Figure size 432x288 with 1 Axes>"
            ],
            "image/png": "[encoded data removed]"
          },
          "metadata": {
            "needs_background": "light"
          }
        }
      ]
    },
    {
      "cell_type": "code",
      "source": [
        "df.groupby('Method of Payment')['Amount'].mean().round(2).value_counts().plot(kind='hist')"
      ],
      "metadata": {
        "colab": {
          "base_uri": "https://localhost:8080/",
          "height": 282
        },
        "id": "VyF9cDVDXsKu",
        "outputId": "d10eeed7-75f3-43bd-bc0c-08632a2072ab"
      },
      "execution_count": null,
      "outputs": [
        {
          "output_type": "execute_result",
          "data": {
            "text/plain": [
              "<matplotlib.axes._subplots.AxesSubplot at 0x7fb3021b8e80>"
            ]
          },
          "metadata": {},
          "execution_count": 76
        },
        {
          "output_type": "display_data",
          "data": {
            "text/plain": [
              "<Figure size 432x288 with 1 Axes>"
            ],
            "image/png": "[encoded data removed]"
          },
          "metadata": {
            "needs_background": "light"
          }
        }
      ]
    },
    {
      "cell_type": "code",
      "source": [
        "sns.boxplot(x='Method of Payment',y='Amount',data=df)"
      ],
      "metadata": {
        "colab": {
          "base_uri": "https://localhost:8080/",
          "height": 296
        },
        "id": "PnciF0hubkns",
        "outputId": "435ce7db-8251-4b49-8b73-54eb13a4a3f8"
      },
      "execution_count": null,
      "outputs": [
        {
          "output_type": "execute_result",
          "data": {
            "text/plain": [
              "<matplotlib.axes._subplots.AxesSubplot at 0x7fb302192070>"
            ]
          },
          "metadata": {},
          "execution_count": 77
        },
        {
          "output_type": "display_data",
          "data": {
            "text/plain": [
              "<Figure size 432x288 with 1 Axes>"
            ],
            "image/png": "[encoded data removed]"
          },
          "metadata": {
            "needs_background": "light"
          }
        }
      ]
    },
    {
      "cell_type": "code",
      "source": [
        "#slide7\n",
        "sns.boxplot(x='Category',y='Amount',data=df)"
      ],
      "metadata": {
        "colab": {
          "base_uri": "https://localhost:8080/",
          "height": 296
        },
        "id": "OuuN27vSn2Cy",
        "outputId": "63c4a975-b09d-4b98-8b86-4f8727d0816e"
      },
      "execution_count": null,
      "outputs": [
        {
          "output_type": "execute_result",
          "data": {
            "text/plain": [
              "<matplotlib.axes._subplots.AxesSubplot at 0x7f451a4c41c0>"
            ]
          },
          "metadata": {},
          "execution_count": 32
        },
        {
          "output_type": "display_data",
          "data": {
            "text/plain": [
              "<Figure size 432x288 with 1 Axes>"
            ],
            "image/png": "[encoded data removed]"
          },
          "metadata": {
            "needs_background": "light"
          }
        }
      ]
    },
    {
      "cell_type": "code",
      "source": [],
      "metadata": {
        "id": "wQC89pq2n_LJ"
      },
      "execution_count": null,
      "outputs": []
    }
  ]
}